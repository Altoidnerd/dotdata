{
 "cells": [
  {
   "cell_type": "markdown",
   "metadata": {},
   "source": [
    "# dotdata ML task\n",
    "\n",
    "## Data Science Use Case: prediction of tips for taxi drivers\n",
    "\n",
    "### Data\n",
    "\t1. NYC taxi trip history data from 2015/01 – 2015/12\n",
    "\t2. Daily weather data from 2015/01 – 2015/12\n",
    "\t3. Public holiday data for the year of 2015\n",
    "\n",
    "## Problem\n",
    "Build an ML model to predict whether each trip has over 20% tip rate or not.\n",
    "\n",
    "### Expected outputs\n",
    "\n",
    "\t1. Please submit the code you developed to build predictive model(s) as Jupyter notebook(s) on Python3 kernel.\n",
    "\t2. Please summarize the key conclusion of your analysis. This report should include the following:\n",
    "\t\ta. The most significant features that affect each trip’s tip percentage.\n",
    "\t\tb. The performance of your predictive model(s), and suggest what additional dataset you’d like to include to improve the performance of your models.\n",
    "\n",
    "### Note\n",
    "\t1.  Please assume the client wants to get the model with high prediction accuracy.\n",
    "\t2.  Please assume the code would be reviewed by your team members, and be further developed."
   ]
  },
  {
   "cell_type": "code",
   "execution_count": 4,
   "metadata": {
    "collapsed": true
   },
   "outputs": [],
   "source": [
    "import numpy as np\n",
    "import pandas as pd\n",
    "import mysql.connector\n",
    "import json\n",
    "import math\n",
    "import datetime\n",
    "import argparse\n",
    "import matplotlib.pyplot as plt\n",
    "from operator import add, truediv\n",
    "from sklearn.preprocessing import MinMaxScaler\n",
    "from sklearn.linear_model import Ridge, RidgeCV, LinearRegression\n",
    "from scipy.stats.stats import pearsonr\n",
    "\n"
   ]
  },
  {
   "cell_type": "markdown",
   "metadata": {},
   "source": [
    "### MYSQL CONNECTION"
   ]
  },
  {
   "cell_type": "code",
   "execution_count": 5,
   "metadata": {
    "collapsed": true
   },
   "outputs": [],
   "source": [
    "port = 3306\n",
    "username = \"rhombus\"\n",
    "password = \"Rhombus_2019z\"\n",
    "end_point = \"afwic.c9fkygyhkkab.us-gov-west-1.rds.amazonaws.com\"\n",
    "afwic = mysql.connector.connect(user=username, password=password, host=end_point, port=port)\n",
    "\n",
    "username = \"rhombus\"\n",
    "password = \"rhombuspower\"\n",
    "end_point = \"quantum.c9fkygyhkkab.us-gov-west-1.rds.amazonaws.com\"\n",
    "quantum = mysql.connector.connect(user=username, password=password, host=end_point, port=port)\n"
   ]
  },
  {
   "cell_type": "markdown",
   "metadata": {},
   "source": [
    "### READ LIMS_EV AVAILABILITY (FY2000 -)"
   ]
  },
  {
   "cell_type": "code",
   "execution_count": 6,
   "metadata": {},
   "outputs": [
    {
     "data": {
      "text/html": [
       "<div>\n",
       "<style scoped>\n",
       "    .dataframe tbody tr th:only-of-type {\n",
       "        vertical-align: middle;\n",
       "    }\n",
       "\n",
       "    .dataframe tbody tr th {\n",
       "        vertical-align: top;\n",
       "    }\n",
       "\n",
       "    .dataframe thead th {\n",
       "        text-align: right;\n",
       "    }\n",
       "</style>\n",
       "<table border=\"1\" class=\"dataframe\">\n",
       "  <thead>\n",
       "    <tr style=\"text-align: right;\">\n",
       "      <th></th>\n",
       "      <th>AFKCA_TYPEID</th>\n",
       "      <th>AFKCA_TYPE</th>\n",
       "      <th>AFKCAID</th>\n",
       "      <th>AFKCA</th>\n",
       "      <th>RULE_BASE</th>\n",
       "      <th>OPS</th>\n",
       "      <th>FISCAL_YEAR</th>\n",
       "      <th>MCH</th>\n",
       "      <th>PSH</th>\n",
       "      <th>AVAILABILITY</th>\n",
       "    </tr>\n",
       "  </thead>\n",
       "  <tbody>\n",
       "    <tr>\n",
       "      <th>0</th>\n",
       "      <td>21</td>\n",
       "      <td>FIGHTERS</td>\n",
       "      <td>0178</td>\n",
       "      <td>A-10</td>\n",
       "      <td>PER_TAI</td>\n",
       "      <td>OPS</td>\n",
       "      <td>2000</td>\n",
       "      <td>956440</td>\n",
       "      <td>1360887</td>\n",
       "      <td>0.702806</td>\n",
       "    </tr>\n",
       "    <tr>\n",
       "      <th>1</th>\n",
       "      <td>21</td>\n",
       "      <td>FIGHTERS</td>\n",
       "      <td>0178</td>\n",
       "      <td>A-10</td>\n",
       "      <td>PER_TAI</td>\n",
       "      <td>OPS</td>\n",
       "      <td>2001</td>\n",
       "      <td>1315798</td>\n",
       "      <td>1907818</td>\n",
       "      <td>0.689687</td>\n",
       "    </tr>\n",
       "    <tr>\n",
       "      <th>2</th>\n",
       "      <td>21</td>\n",
       "      <td>FIGHTERS</td>\n",
       "      <td>0178</td>\n",
       "      <td>A-10</td>\n",
       "      <td>PER_TAI</td>\n",
       "      <td>OPS</td>\n",
       "      <td>2002</td>\n",
       "      <td>1392911</td>\n",
       "      <td>1862808</td>\n",
       "      <td>0.747748</td>\n",
       "    </tr>\n",
       "    <tr>\n",
       "      <th>3</th>\n",
       "      <td>21</td>\n",
       "      <td>FIGHTERS</td>\n",
       "      <td>0178</td>\n",
       "      <td>A-10</td>\n",
       "      <td>PER_TAI</td>\n",
       "      <td>OPS</td>\n",
       "      <td>2003</td>\n",
       "      <td>1274985</td>\n",
       "      <td>1767422</td>\n",
       "      <td>0.721381</td>\n",
       "    </tr>\n",
       "    <tr>\n",
       "      <th>4</th>\n",
       "      <td>21</td>\n",
       "      <td>FIGHTERS</td>\n",
       "      <td>0178</td>\n",
       "      <td>A-10</td>\n",
       "      <td>PER_TAI</td>\n",
       "      <td>OPS</td>\n",
       "      <td>2004</td>\n",
       "      <td>1292132</td>\n",
       "      <td>1790392</td>\n",
       "      <td>0.721703</td>\n",
       "    </tr>\n",
       "  </tbody>\n",
       "</table>\n",
       "</div>"
      ],
      "text/plain": [
       "  AFKCA_TYPEID AFKCA_TYPE AFKCAID AFKCA RULE_BASE  OPS  FISCAL_YEAR      MCH  \\\n",
       "0           21   FIGHTERS    0178  A-10   PER_TAI  OPS         2000   956440   \n",
       "1           21   FIGHTERS    0178  A-10   PER_TAI  OPS         2001  1315798   \n",
       "2           21   FIGHTERS    0178  A-10   PER_TAI  OPS         2002  1392911   \n",
       "3           21   FIGHTERS    0178  A-10   PER_TAI  OPS         2003  1274985   \n",
       "4           21   FIGHTERS    0178  A-10   PER_TAI  OPS         2004  1292132   \n",
       "\n",
       "       PSH  AVAILABILITY  \n",
       "0  1360887      0.702806  \n",
       "1  1907818      0.689687  \n",
       "2  1862808      0.747748  \n",
       "3  1767422      0.721381  \n",
       "4  1790392      0.721703  "
      ]
     },
     "execution_count": 6,
     "metadata": {},
     "output_type": "execute_result"
    }
   ],
   "source": [
    "df_availability = pd.read_sql(''' SELECT * FROM LIMS_EV.AFKCA_MCH_PSH_AVAILABILITY ''',afwic)\n",
    "df_availability.head()"
   ]
  },
  {
   "cell_type": "markdown",
   "metadata": {},
   "source": [
    "### READ ABIDES BUDGET (FY2001-2023)"
   ]
  },
  {
   "cell_type": "code",
   "execution_count": 7,
   "metadata": {},
   "outputs": [
    {
     "data": {
      "text/html": [
       "<div>\n",
       "<style scoped>\n",
       "    .dataframe tbody tr th:only-of-type {\n",
       "        vertical-align: middle;\n",
       "    }\n",
       "\n",
       "    .dataframe tbody tr th {\n",
       "        vertical-align: top;\n",
       "    }\n",
       "\n",
       "    .dataframe thead th {\n",
       "        text-align: right;\n",
       "    }\n",
       "</style>\n",
       "<table border=\"1\" class=\"dataframe\">\n",
       "  <thead>\n",
       "    <tr style=\"text-align: right;\">\n",
       "      <th></th>\n",
       "      <th>AFKCA_TYPEID</th>\n",
       "      <th>AFKCA_TYPE</th>\n",
       "      <th>AFKCAID</th>\n",
       "      <th>AFKCA</th>\n",
       "      <th>OPS</th>\n",
       "      <th>FY_START</th>\n",
       "      <th>FY_END</th>\n",
       "      <th>FORCES_TAI</th>\n",
       "      <th>FORCES_BUY</th>\n",
       "      <th>FORCES_DIV</th>\n",
       "      <th>FORCES_ATT</th>\n",
       "      <th>MANPOWER_SIZE</th>\n",
       "      <th>RDTE</th>\n",
       "      <th>PROCUREMENT</th>\n",
       "      <th>OM</th>\n",
       "      <th>MILPERS</th>\n",
       "      <th>MILCON</th>\n",
       "      <th>OTHER</th>\n",
       "    </tr>\n",
       "  </thead>\n",
       "  <tbody>\n",
       "    <tr>\n",
       "      <th>0</th>\n",
       "      <td>01</td>\n",
       "      <td>ACS-EXPEDITIONARY</td>\n",
       "      <td>0471</td>\n",
       "      <td>EXPEDITIONARY-SS</td>\n",
       "      <td>ACS</td>\n",
       "      <td>2001</td>\n",
       "      <td>2023</td>\n",
       "      <td>0,0,0,0,0,0,0,0,0,0,0,0,0,0,0,0,0,0,0,0,0,0,0</td>\n",
       "      <td>0,0,0,0,0,0,0,0,0,0,0,0,0,0,0,0,0,0,0,0,0,0,0</td>\n",
       "      <td>0,0,0,0,0,0,0,0,0,0,0,0,0,0,0,0,0,0,0,0,0,0,0</td>\n",
       "      <td>0,0,0,0,0,0,0,0,0,0,0,0,0,0,0,0,0,0,0,0,0,0,0</td>\n",
       "      <td>1978,2251,2328,2286,2303,2322,2298,2154,3123,2...</td>\n",
       "      <td>0,0,0,0,0,0,0,0,0,0,0,0,0,0,0,0,0,0,0,0,0,0,0</td>\n",
       "      <td>0,0,0,0,0,0,0,0,0,0,0,0,0,0,0,0,0,0,0,0,0,0,0</td>\n",
       "      <td>0,0,0,0,262,351,157,170,309,2967,2250,3213,198...</td>\n",
       "      <td>127618,146048,176602,179861,180990,166024,1747...</td>\n",
       "      <td>0,0,0,0,0,0,0,0,0,0,0,0,0,0,0,0,0,0,0,0,0,0,0</td>\n",
       "      <td>0,0,0,0,0,0,0,0,0,0,0,0,0,0,0,0,0,0,0,0,0,0,0</td>\n",
       "    </tr>\n",
       "    <tr>\n",
       "      <th>1</th>\n",
       "      <td>01</td>\n",
       "      <td>ACS-EXPEDITIONARY</td>\n",
       "      <td>0873</td>\n",
       "      <td>EXPEDITIONARY-RGM</td>\n",
       "      <td>ACS</td>\n",
       "      <td>2001</td>\n",
       "      <td>2023</td>\n",
       "      <td>18,18,18,0,0,0,0,0,0,0,0,0,0,0,0,0,0,0,0,0,0,0,0</td>\n",
       "      <td>0,0,0,0,0,0,0,0,0,0,0,0,0,0,0,0,0,0,0,0,0,0,0</td>\n",
       "      <td>0,0,0,18,0,0,0,0,0,0,0,0,0,0,0,0,0,0,0,0,0,0,0</td>\n",
       "      <td>0,0,0,0,0,0,0,0,0,0,0,0,0,0,0,0,0,0,0,0,0,0,0</td>\n",
       "      <td>22900,37961,51712,38178,38045,37581,38338,3401...</td>\n",
       "      <td>0,0,0,0,0,2637,0,0,0,0,0,0,0,0,0,0,26925,26222...</td>\n",
       "      <td>200011,232912,218733,55035,29037,39377,30735,1...</td>\n",
       "      <td>764840,1031766,1101276,377478,271934,259816,26...</td>\n",
       "      <td>638562,1645004,1485463,1936767,1993326,1854197...</td>\n",
       "      <td>0,0,0,0,0,0,0,0,0,0,0,0,0,0,0,0,0,9000,0,0,0,0,0</td>\n",
       "      <td>6502357,0,6065960,6180656,6191064,5949569,1199...</td>\n",
       "    </tr>\n",
       "    <tr>\n",
       "      <th>2</th>\n",
       "      <td>01</td>\n",
       "      <td>ACS-EXPEDITIONARY</td>\n",
       "      <td>0874</td>\n",
       "      <td>EXPEDITIONARY-GPA</td>\n",
       "      <td>ACS</td>\n",
       "      <td>2001</td>\n",
       "      <td>2023</td>\n",
       "      <td>0,0,0,0,0,0,0,0,0,0,0,0,0,0,0,0,0,0,0,0,0,0,0</td>\n",
       "      <td>0,0,0,0,0,0,0,0,0,0,0,0,0,0,0,0,0,0,0,0,0,0,0</td>\n",
       "      <td>0,0,0,0,0,0,0,0,0,0,0,0,0,0,0,0,0,0,0,0,0,0,0</td>\n",
       "      <td>0,0,0,0,0,0,0,0,0,0,0,0,0,0,0,0,0,0,0,0,0,0,0</td>\n",
       "      <td>17501,18020,30966,30517,30638,30716,30391,2760...</td>\n",
       "      <td>0,0,0,0,0,0,0,0,0,0,0,0,0,0,0,0,0,0,0,0,0,0,0</td>\n",
       "      <td>0,0,0,0,0,0,0,0,0,0,0,0,0,0,0,0,0,0,0,0,0,0,0</td>\n",
       "      <td>0,411,6138,12559,55527,76180,72065,37376,33461...</td>\n",
       "      <td>1055262,1174550,1897231,2351865,2362462,213951...</td>\n",
       "      <td>0,0,0,0,0,0,0,0,0,0,0,0,0,0,0,0,0,0,0,0,0,0,0</td>\n",
       "      <td>0,0,0,0,0,0,0,0,0,0,0,0,0,0,0,0,0,0,0,0,0,0,0</td>\n",
       "    </tr>\n",
       "    <tr>\n",
       "      <th>3</th>\n",
       "      <td>01</td>\n",
       "      <td>ACS-EXPEDITIONARY</td>\n",
       "      <td>1008</td>\n",
       "      <td>EXPEDITIONARY-CS</td>\n",
       "      <td>ACS</td>\n",
       "      <td>2001</td>\n",
       "      <td>2023</td>\n",
       "      <td>0,0,0,0,0,0,0,0,0,0,0,0,0,0,0,0,0,0,0,0,0,0,0</td>\n",
       "      <td>0,0,0,0,0,0,0,0,0,0,0,0,0,0,0,0,0,0,0,0,0,0,0</td>\n",
       "      <td>0,0,0,0,0,0,0,0,0,0,0,0,0,0,0,0,0,0,0,0,0,0,0</td>\n",
       "      <td>0,0,0,0,0,0,0,0,0,0,0,0,0,0,0,0,0,0,0,0,0,0,0</td>\n",
       "      <td>18090,13583,13380,12979,12867,12835,12678,1042...</td>\n",
       "      <td>0,0,0,0,0,0,0,0,0,0,0,0,0,0,0,0,0,0,0,0,0,0,0</td>\n",
       "      <td>4403,10047,8850,6495,5342,4495,4318,11934,4962...</td>\n",
       "      <td>233576,157675,181668,175873,177210,176658,1617...</td>\n",
       "      <td>347970,326222,362236,354826,372262,362016,3686...</td>\n",
       "      <td>0,0,0,0,0,0,0,0,0,0,0,0,0,0,0,0,0,0,0,0,0,0,0</td>\n",
       "      <td>0,0,0,0,0,0,0,0,0,0,0,0,0,0,0,0,0,0,0,0,0,0,0</td>\n",
       "    </tr>\n",
       "    <tr>\n",
       "      <th>4</th>\n",
       "      <td>01</td>\n",
       "      <td>ACS-EXPEDITIONARY</td>\n",
       "      <td>1009</td>\n",
       "      <td>EXPEDITIONARY-NDO</td>\n",
       "      <td>ACS</td>\n",
       "      <td>2001</td>\n",
       "      <td>2023</td>\n",
       "      <td>0,0,0,0,0,0,0,0,0,0,0,0,0,0,0,0,0,0,0,0,0,0,0</td>\n",
       "      <td>0,0,0,0,0,0,0,0,0,0,0,0,0,0,0,0,0,0,0,0,0,0,0</td>\n",
       "      <td>0,0,0,0,0,0,0,0,0,0,0,0,0,0,0,0,0,0,0,0,0,0,0</td>\n",
       "      <td>0,0,0,0,0,0,0,0,0,0,0,0,0,0,0,0,0,0,0,0,0,0,0</td>\n",
       "      <td>3311,3935,5604,5395,5376,5427,5489,5028,5166,5...</td>\n",
       "      <td>0,0,0,0,0,0,0,0,0,0,0,0,0,0,0,0,0,0,0,0,0,0,0</td>\n",
       "      <td>0,0,0,0,0,0,0,0,0,0,0,0,0,0,0,0,0,0,0,0,0,0,0</td>\n",
       "      <td>0,0,0,146,2843,3041,3862,13601,2366,1100,1321,...</td>\n",
       "      <td>202079,254456,413940,415862,413053,374042,3978...</td>\n",
       "      <td>0,0,0,0,0,0,0,0,0,0,0,0,0,0,0,0,0,0,0,0,0,0,0</td>\n",
       "      <td>0,0,0,0,0,0,0,0,0,0,0,0,0,0,0,0,0,0,0,0,0,0,0</td>\n",
       "    </tr>\n",
       "  </tbody>\n",
       "</table>\n",
       "</div>"
      ],
      "text/plain": [
       "  AFKCA_TYPEID         AFKCA_TYPE AFKCAID              AFKCA  OPS  FY_START  \\\n",
       "0           01  ACS-EXPEDITIONARY    0471   EXPEDITIONARY-SS  ACS      2001   \n",
       "1           01  ACS-EXPEDITIONARY    0873  EXPEDITIONARY-RGM  ACS      2001   \n",
       "2           01  ACS-EXPEDITIONARY    0874  EXPEDITIONARY-GPA  ACS      2001   \n",
       "3           01  ACS-EXPEDITIONARY    1008   EXPEDITIONARY-CS  ACS      2001   \n",
       "4           01  ACS-EXPEDITIONARY    1009  EXPEDITIONARY-NDO  ACS      2001   \n",
       "\n",
       "   FY_END                                        FORCES_TAI  \\\n",
       "0    2023     0,0,0,0,0,0,0,0,0,0,0,0,0,0,0,0,0,0,0,0,0,0,0   \n",
       "1    2023  18,18,18,0,0,0,0,0,0,0,0,0,0,0,0,0,0,0,0,0,0,0,0   \n",
       "2    2023     0,0,0,0,0,0,0,0,0,0,0,0,0,0,0,0,0,0,0,0,0,0,0   \n",
       "3    2023     0,0,0,0,0,0,0,0,0,0,0,0,0,0,0,0,0,0,0,0,0,0,0   \n",
       "4    2023     0,0,0,0,0,0,0,0,0,0,0,0,0,0,0,0,0,0,0,0,0,0,0   \n",
       "\n",
       "                                      FORCES_BUY  \\\n",
       "0  0,0,0,0,0,0,0,0,0,0,0,0,0,0,0,0,0,0,0,0,0,0,0   \n",
       "1  0,0,0,0,0,0,0,0,0,0,0,0,0,0,0,0,0,0,0,0,0,0,0   \n",
       "2  0,0,0,0,0,0,0,0,0,0,0,0,0,0,0,0,0,0,0,0,0,0,0   \n",
       "3  0,0,0,0,0,0,0,0,0,0,0,0,0,0,0,0,0,0,0,0,0,0,0   \n",
       "4  0,0,0,0,0,0,0,0,0,0,0,0,0,0,0,0,0,0,0,0,0,0,0   \n",
       "\n",
       "                                       FORCES_DIV  \\\n",
       "0   0,0,0,0,0,0,0,0,0,0,0,0,0,0,0,0,0,0,0,0,0,0,0   \n",
       "1  0,0,0,18,0,0,0,0,0,0,0,0,0,0,0,0,0,0,0,0,0,0,0   \n",
       "2   0,0,0,0,0,0,0,0,0,0,0,0,0,0,0,0,0,0,0,0,0,0,0   \n",
       "3   0,0,0,0,0,0,0,0,0,0,0,0,0,0,0,0,0,0,0,0,0,0,0   \n",
       "4   0,0,0,0,0,0,0,0,0,0,0,0,0,0,0,0,0,0,0,0,0,0,0   \n",
       "\n",
       "                                      FORCES_ATT  \\\n",
       "0  0,0,0,0,0,0,0,0,0,0,0,0,0,0,0,0,0,0,0,0,0,0,0   \n",
       "1  0,0,0,0,0,0,0,0,0,0,0,0,0,0,0,0,0,0,0,0,0,0,0   \n",
       "2  0,0,0,0,0,0,0,0,0,0,0,0,0,0,0,0,0,0,0,0,0,0,0   \n",
       "3  0,0,0,0,0,0,0,0,0,0,0,0,0,0,0,0,0,0,0,0,0,0,0   \n",
       "4  0,0,0,0,0,0,0,0,0,0,0,0,0,0,0,0,0,0,0,0,0,0,0   \n",
       "\n",
       "                                       MANPOWER_SIZE  \\\n",
       "0  1978,2251,2328,2286,2303,2322,2298,2154,3123,2...   \n",
       "1  22900,37961,51712,38178,38045,37581,38338,3401...   \n",
       "2  17501,18020,30966,30517,30638,30716,30391,2760...   \n",
       "3  18090,13583,13380,12979,12867,12835,12678,1042...   \n",
       "4  3311,3935,5604,5395,5376,5427,5489,5028,5166,5...   \n",
       "\n",
       "                                                RDTE  \\\n",
       "0      0,0,0,0,0,0,0,0,0,0,0,0,0,0,0,0,0,0,0,0,0,0,0   \n",
       "1  0,0,0,0,0,2637,0,0,0,0,0,0,0,0,0,0,26925,26222...   \n",
       "2      0,0,0,0,0,0,0,0,0,0,0,0,0,0,0,0,0,0,0,0,0,0,0   \n",
       "3      0,0,0,0,0,0,0,0,0,0,0,0,0,0,0,0,0,0,0,0,0,0,0   \n",
       "4      0,0,0,0,0,0,0,0,0,0,0,0,0,0,0,0,0,0,0,0,0,0,0   \n",
       "\n",
       "                                         PROCUREMENT  \\\n",
       "0      0,0,0,0,0,0,0,0,0,0,0,0,0,0,0,0,0,0,0,0,0,0,0   \n",
       "1  200011,232912,218733,55035,29037,39377,30735,1...   \n",
       "2      0,0,0,0,0,0,0,0,0,0,0,0,0,0,0,0,0,0,0,0,0,0,0   \n",
       "3  4403,10047,8850,6495,5342,4495,4318,11934,4962...   \n",
       "4      0,0,0,0,0,0,0,0,0,0,0,0,0,0,0,0,0,0,0,0,0,0,0   \n",
       "\n",
       "                                                  OM  \\\n",
       "0  0,0,0,0,262,351,157,170,309,2967,2250,3213,198...   \n",
       "1  764840,1031766,1101276,377478,271934,259816,26...   \n",
       "2  0,411,6138,12559,55527,76180,72065,37376,33461...   \n",
       "3  233576,157675,181668,175873,177210,176658,1617...   \n",
       "4  0,0,0,146,2843,3041,3862,13601,2366,1100,1321,...   \n",
       "\n",
       "                                             MILPERS  \\\n",
       "0  127618,146048,176602,179861,180990,166024,1747...   \n",
       "1  638562,1645004,1485463,1936767,1993326,1854197...   \n",
       "2  1055262,1174550,1897231,2351865,2362462,213951...   \n",
       "3  347970,326222,362236,354826,372262,362016,3686...   \n",
       "4  202079,254456,413940,415862,413053,374042,3978...   \n",
       "\n",
       "                                             MILCON  \\\n",
       "0     0,0,0,0,0,0,0,0,0,0,0,0,0,0,0,0,0,0,0,0,0,0,0   \n",
       "1  0,0,0,0,0,0,0,0,0,0,0,0,0,0,0,0,0,9000,0,0,0,0,0   \n",
       "2     0,0,0,0,0,0,0,0,0,0,0,0,0,0,0,0,0,0,0,0,0,0,0   \n",
       "3     0,0,0,0,0,0,0,0,0,0,0,0,0,0,0,0,0,0,0,0,0,0,0   \n",
       "4     0,0,0,0,0,0,0,0,0,0,0,0,0,0,0,0,0,0,0,0,0,0,0   \n",
       "\n",
       "                                               OTHER  \n",
       "0      0,0,0,0,0,0,0,0,0,0,0,0,0,0,0,0,0,0,0,0,0,0,0  \n",
       "1  6502357,0,6065960,6180656,6191064,5949569,1199...  \n",
       "2      0,0,0,0,0,0,0,0,0,0,0,0,0,0,0,0,0,0,0,0,0,0,0  \n",
       "3      0,0,0,0,0,0,0,0,0,0,0,0,0,0,0,0,0,0,0,0,0,0,0  \n",
       "4      0,0,0,0,0,0,0,0,0,0,0,0,0,0,0,0,0,0,0,0,0,0,0  "
      ]
     },
     "execution_count": 7,
     "metadata": {},
     "output_type": "execute_result"
    }
   ],
   "source": [
    "df_budget = pd.read_sql(''' SELECT * FROM PROGRAMMING_UI.DT_ABIDES_AFKCA ''',quantum)\n",
    "df_budget.head()"
   ]
  },
  {
   "cell_type": "markdown",
   "metadata": {},
   "source": [
    "### READ AFKCA CONNECTIONS"
   ]
  },
  {
   "cell_type": "code",
   "execution_count": 8,
   "metadata": {},
   "outputs": [
    {
     "data": {
      "text/html": [
       "<div>\n",
       "<style scoped>\n",
       "    .dataframe tbody tr th:only-of-type {\n",
       "        vertical-align: middle;\n",
       "    }\n",
       "\n",
       "    .dataframe tbody tr th {\n",
       "        vertical-align: top;\n",
       "    }\n",
       "\n",
       "    .dataframe thead th {\n",
       "        text-align: right;\n",
       "    }\n",
       "</style>\n",
       "<table border=\"1\" class=\"dataframe\">\n",
       "  <thead>\n",
       "    <tr style=\"text-align: right;\">\n",
       "      <th></th>\n",
       "      <th>PANEL</th>\n",
       "      <th>PANEL_TITLE</th>\n",
       "      <th>AFKCA_TYPEID</th>\n",
       "      <th>AFKCA_TYPE</th>\n",
       "      <th>AFKCAID</th>\n",
       "      <th>AFKCA</th>\n",
       "      <th>RULE_BASE</th>\n",
       "      <th>OPS</th>\n",
       "      <th>CONNECTED_AFKCA_OPS</th>\n",
       "      <th>CONNECTED_AFKCA_ACS</th>\n",
       "      <th>CONNECTED_AFKCA_SSS</th>\n",
       "    </tr>\n",
       "  </thead>\n",
       "  <tbody>\n",
       "    <tr>\n",
       "      <th>0</th>\n",
       "      <td>B</td>\n",
       "      <td>FM</td>\n",
       "      <td>16</td>\n",
       "      <td>CORPORATE MGT</td>\n",
       "      <td>1017</td>\n",
       "      <td>MGT HQ-ACS (P&amp;T)</td>\n",
       "      <td>PER_TOT</td>\n",
       "      <td>SSS</td>\n",
       "      <td>None</td>\n",
       "      <td>{'AFKCA': {'EXPEDITIONARY-RGM', 'EXPEDITIONARY...</td>\n",
       "      <td>{'AFKCA': {'MGT HQ-ACS (P&amp;T)', 'PROGRAM EVAL',...</td>\n",
       "    </tr>\n",
       "    <tr>\n",
       "      <th>1</th>\n",
       "      <td>B</td>\n",
       "      <td>FM</td>\n",
       "      <td>01</td>\n",
       "      <td>ACS-EXPEDITIONARY</td>\n",
       "      <td>0873</td>\n",
       "      <td>EXPEDITIONARY-RGM</td>\n",
       "      <td>PER_TOT</td>\n",
       "      <td>ACS</td>\n",
       "      <td>{'AFKCA': {'ELECTRONIC WARFARE', 'HH-60', 'SLC...</td>\n",
       "      <td>{'AFKCA': {'EXPEDITIONARY-RGM'}, 'RULE_BASE': ...</td>\n",
       "      <td>{'AFKCA': {'MGT HQ-ACS (P&amp;T)', 'PROGRAM EVAL',...</td>\n",
       "    </tr>\n",
       "    <tr>\n",
       "      <th>2</th>\n",
       "      <td>B</td>\n",
       "      <td>FM</td>\n",
       "      <td>03</td>\n",
       "      <td>ACS-POLICY</td>\n",
       "      <td>1235</td>\n",
       "      <td>PROGRAM EVAL</td>\n",
       "      <td>PER_TOT</td>\n",
       "      <td>SSS</td>\n",
       "      <td>{'AFKCA': {'B-21'}, 'RULE_BASE': {'PER_TOT'}, ...</td>\n",
       "      <td>{'AFKCA': {'EXPEDITIONARY-RGM'}, 'RULE_BASE': ...</td>\n",
       "      <td>{'AFKCA': {'MGT HQ-ACS (P&amp;T)', 'PROGRAM EVAL',...</td>\n",
       "    </tr>\n",
       "    <tr>\n",
       "      <th>3</th>\n",
       "      <td>E</td>\n",
       "      <td>NUCLEAR DET OPS</td>\n",
       "      <td>01</td>\n",
       "      <td>ACS-EXPEDITIONARY</td>\n",
       "      <td>1009</td>\n",
       "      <td>EXPEDITIONARY-NDO</td>\n",
       "      <td>PER_TOT</td>\n",
       "      <td>ACS</td>\n",
       "      <td>{'AFKCA': {'B-1', 'B-2', 'B-52', 'E-4', 'ARMS ...</td>\n",
       "      <td>{'AFKCA': {'EXPEDITIONARY-NDO', 'NC3', 'ALCM F...</td>\n",
       "      <td>{'AFKCA': {'MGT HQ-NDO', 'CCMD AGCY SPT-NDO', ...</td>\n",
       "    </tr>\n",
       "    <tr>\n",
       "      <th>4</th>\n",
       "      <td>E</td>\n",
       "      <td>NUCLEAR DET OPS</td>\n",
       "      <td>07</td>\n",
       "      <td>BOMBERS</td>\n",
       "      <td>0001</td>\n",
       "      <td>B-1</td>\n",
       "      <td>PER_TAI</td>\n",
       "      <td>OPS</td>\n",
       "      <td>{'AFKCA': {'B-1', 'B-2', 'B-52', 'E-4', 'ARMS ...</td>\n",
       "      <td>{'AFKCA': {'EXPEDITIONARY-NDO', 'NC3', 'ALCM F...</td>\n",
       "      <td>{'AFKCA': {'MGT HQ-NDO', 'CCMD AGCY SPT-NDO', ...</td>\n",
       "    </tr>\n",
       "  </tbody>\n",
       "</table>\n",
       "</div>"
      ],
      "text/plain": [
       "  PANEL      PANEL_TITLE AFKCA_TYPEID         AFKCA_TYPE AFKCAID  \\\n",
       "0     B               FM           16      CORPORATE MGT    1017   \n",
       "1     B               FM           01  ACS-EXPEDITIONARY    0873   \n",
       "2     B               FM           03         ACS-POLICY    1235   \n",
       "3     E  NUCLEAR DET OPS           01  ACS-EXPEDITIONARY    1009   \n",
       "4     E  NUCLEAR DET OPS           07            BOMBERS    0001   \n",
       "\n",
       "               AFKCA RULE_BASE  OPS  \\\n",
       "0   MGT HQ-ACS (P&T)   PER_TOT  SSS   \n",
       "1  EXPEDITIONARY-RGM   PER_TOT  ACS   \n",
       "2       PROGRAM EVAL   PER_TOT  SSS   \n",
       "3  EXPEDITIONARY-NDO   PER_TOT  ACS   \n",
       "4                B-1   PER_TAI  OPS   \n",
       "\n",
       "                                 CONNECTED_AFKCA_OPS  \\\n",
       "0                                               None   \n",
       "1  {'AFKCA': {'ELECTRONIC WARFARE', 'HH-60', 'SLC...   \n",
       "2  {'AFKCA': {'B-21'}, 'RULE_BASE': {'PER_TOT'}, ...   \n",
       "3  {'AFKCA': {'B-1', 'B-2', 'B-52', 'E-4', 'ARMS ...   \n",
       "4  {'AFKCA': {'B-1', 'B-2', 'B-52', 'E-4', 'ARMS ...   \n",
       "\n",
       "                                 CONNECTED_AFKCA_ACS  \\\n",
       "0  {'AFKCA': {'EXPEDITIONARY-RGM', 'EXPEDITIONARY...   \n",
       "1  {'AFKCA': {'EXPEDITIONARY-RGM'}, 'RULE_BASE': ...   \n",
       "2  {'AFKCA': {'EXPEDITIONARY-RGM'}, 'RULE_BASE': ...   \n",
       "3  {'AFKCA': {'EXPEDITIONARY-NDO', 'NC3', 'ALCM F...   \n",
       "4  {'AFKCA': {'EXPEDITIONARY-NDO', 'NC3', 'ALCM F...   \n",
       "\n",
       "                                 CONNECTED_AFKCA_SSS  \n",
       "0  {'AFKCA': {'MGT HQ-ACS (P&T)', 'PROGRAM EVAL',...  \n",
       "1  {'AFKCA': {'MGT HQ-ACS (P&T)', 'PROGRAM EVAL',...  \n",
       "2  {'AFKCA': {'MGT HQ-ACS (P&T)', 'PROGRAM EVAL',...  \n",
       "3  {'AFKCA': {'MGT HQ-NDO', 'CCMD AGCY SPT-NDO', ...  \n",
       "4  {'AFKCA': {'MGT HQ-NDO', 'CCMD AGCY SPT-NDO', ...  "
      ]
     },
     "execution_count": 8,
     "metadata": {},
     "output_type": "execute_result"
    }
   ],
   "source": [
    "df_afkca = pd.read_sql(''' SELECT * FROM PLANNING_UI_DEPLOY.LOOKUP_CONNECTION_AFKCA ''',quantum)\n",
    "df_afkca.head()"
   ]
  },
  {
   "cell_type": "markdown",
   "metadata": {},
   "source": [
    "### AFKCA OF INTERESTS"
   ]
  },
  {
   "cell_type": "code",
   "execution_count": 9,
   "metadata": {},
   "outputs": [
    {
     "data": {
      "text/html": [
       "<div>\n",
       "<style scoped>\n",
       "    .dataframe tbody tr th:only-of-type {\n",
       "        vertical-align: middle;\n",
       "    }\n",
       "\n",
       "    .dataframe tbody tr th {\n",
       "        vertical-align: top;\n",
       "    }\n",
       "\n",
       "    .dataframe thead th {\n",
       "        text-align: right;\n",
       "    }\n",
       "</style>\n",
       "<table border=\"1\" class=\"dataframe\">\n",
       "  <thead>\n",
       "    <tr style=\"text-align: right;\">\n",
       "      <th></th>\n",
       "      <th>AFKCA</th>\n",
       "    </tr>\n",
       "    <tr>\n",
       "      <th>EQUIPMENT_DESIGNATOR</th>\n",
       "      <th></th>\n",
       "    </tr>\n",
       "  </thead>\n",
       "  <tbody>\n",
       "    <tr>\n",
       "      <th>A010A</th>\n",
       "      <td>A-10</td>\n",
       "    </tr>\n",
       "    <tr>\n",
       "      <th>A010C</th>\n",
       "      <td>A-10</td>\n",
       "    </tr>\n",
       "    <tr>\n",
       "      <th>AC130H</th>\n",
       "      <td>AC-130H/U</td>\n",
       "    </tr>\n",
       "    <tr>\n",
       "      <th>AC130J</th>\n",
       "      <td>AC-130J</td>\n",
       "    </tr>\n",
       "    <tr>\n",
       "      <th>AC130U</th>\n",
       "      <td>AC-130H/U</td>\n",
       "    </tr>\n",
       "  </tbody>\n",
       "</table>\n",
       "</div>"
      ],
      "text/plain": [
       "                          AFKCA\n",
       "EQUIPMENT_DESIGNATOR           \n",
       "A010A                      A-10\n",
       "A010C                      A-10\n",
       "AC130H                AC-130H/U\n",
       "AC130J                  AC-130J\n",
       "AC130U                AC-130H/U"
      ]
     },
     "execution_count": 9,
     "metadata": {},
     "output_type": "execute_result"
    }
   ],
   "source": [
    "saveeq = {'A010A':'A-10','A010C':'A-10',\n",
    "       'AC130H':'AC-130H/U','AC130J':'AC-130J','AC130U':'AC-130H/U','AC130W':'AC-130W',\n",
    "       'B001B':'B-1','B002A':'B-2',\n",
    "       'B052G':'B-52','B052H':'B-52','B052C':'B-52','B052D':'B-52','B052E':'B-52','B052F':'B-52',\n",
    "       'C012A':'C-12','C012C':'C-12','C012D':'C-12','C012F':'C-12','C012J':'C-12',\n",
    "       'C017A':'C-17',\n",
    "       'C020A':'C-20','C020B':'C-20','C020C':'C-20','C020E':'C-20','C020H':'C-20','C020K':'C-20',\n",
    "       'C021A':'C-21',\n",
    "       'C032A':'C-32','C032B':'C-32',\n",
    "       'C037A':'C-37','C037B':'C-37',\n",
    "       'C040A':'C-40','C040B':'C-40','C040C':'C-40',\n",
    "       'C130H':'C-130H','C130J':'C-130J',\n",
    "       'CV022B':'CV-22',\n",
    "       'E003A':'E-3','E003B':'E-3','E003C':'E-3','E003G':'E-3',\n",
    "       'E004B':'E-4','E008A':'E-8','E008C':'E-8',\n",
    "       'EC130E':'EC-130 CCALL','EC130H':'EC-130 CCALL','EC130J':'EC-130 CCALL',\n",
    "       'F015C':'F-15CD','F015D':'F-15CD','F015E':'F-15E',\n",
    "       'F016C':'F-16CD','F016D':'F-16CD',\n",
    "       'F022A':'F-22',\n",
    "       'F035A':'F-35A',\n",
    "       'F117A':'F-117',\n",
    "       'HC130J':'HC-130J',\n",
    "       'HC130N':'HC-130N/P',\n",
    "       'HC130P':'HC-130N/P',\n",
    "       'HH060A':'HH-60','HH060G':'HH-60','HH060U':'HH-60',\n",
    "       'KC010A':'KC-10',\n",
    "       'KC135A':'KC-135','KC135D':'KC-135','KC135E':'KC-135','KC135R':'KC-135','KC135T':'KC-135','KC135Q':'KC-135',\n",
    "       'LC130H':'C-130H',\n",
    "       'MC012W':'MC-12',\n",
    "       'MC130H':'MC-130H','MC130J':'MC-130J',\n",
    "       'MQ001B':'MQ-1','MQ009A':'MQ-9',\n",
    "       'OC135B':'ARMS CONTROL (OC-135B)',\n",
    "       'RC026B':'RC-26',\n",
    "       'RQ004A':'RQ-4','RQ004B':'RQ-4',\n",
    "       'T001A':'T-1',\n",
    "       'T006A':'T-6',\n",
    "       'T038A':'T-38','T038C':'T-38',\n",
    "       'TH001H':'TH-1','TH001F':'TH-1',\n",
    "       'U002S':'U-2','TU002R':'U-2','U002R':'U-2',\n",
    "       'UH001H':'UH-1N NDO','UH001N':'UH-1N NDO','UH001V':'UH-1N NDO','UH001F':'UH-1N NDO','UH001P':'UH-1N NDO',\n",
    "       'VC025A':'VC-25A',\n",
    "       'WC130J':'WC-130J',\n",
    "       'WC135B':'WC-135','WC135C':'WC-135','WC135W':'WC-135'}\n",
    "lut = pd.DataFrame.from_dict(saveeq,orient='index')\n",
    "lut.columns = ['AFKCA']\n",
    "lut.index.names = ['EQUIPMENT_DESIGNATOR']\n",
    "lut.head()"
   ]
  },
  {
   "cell_type": "markdown",
   "metadata": {},
   "source": [
    "Hi Allen,\n",
    "\n",
    "We would like you to work on a modeling problem set.\n",
    "\n",
    "Here, i can provide a context. The AF wants to know how increasing/decreasing budget affects aircraft's availability (mission capable hours divided by possession hours). Assuming that zero money will result in zero availability, we would see that increasing money will bring better availability. Note that, in addition to direct operational money, there are indirect budget monies supporting aircraft operations. We would like to know the correlations between aircraft availability and direct/indirect budget, and their sensitivities and correlations. \n",
    "\n",
    "1) We have a time series of F-15CD availability (Mission Capable Hours / Possession Hours)\n",
    "= MCH / PSH\n",
    "2) We also have a times series of AF budget for F-15CD with a break down into Procurement, OM, MILPERS, MILCON, RDTE, and OTHER.\n",
    "3) In addition, we know the AF budget for other AFKCAs (Agile combat support ACS afkca and Sustainment, Service and Support SSS afkca). \n",
    "4) We also know TAI (total aircraft inventory) for each AFKCA\n",
    "\n",
    "We want to know how the AF budget affect F-15CD availability.\n",
    "* use RidgeCV (regression)\n",
    "* for each AFKCA, train availability = a function of MILPERS and OM \n",
    "* Ignore Procurement, MILCON, Other, RDTE for now\n",
    "* each AFKCA also has a connection to ACS and SSS AFKCAs. Use their total budget. \n",
    "* remove training data points if TAI is zero \n",
    "* ingest zero availabilty if total budget is zero \n",
    "* get correlations between availability and other variables for each AFKCA \n",
    "* get sensitivity between availability and other variables for each AFKCA\n",
    "\n",
    "I attached a jupyter notebook with database and connection information. \n",
    "Could you please start working on this (today is July-17) and provide some preliminary results by next Monday? We can sit down and talk more regarding this problem set. \n",
    "\n",
    "Sungho\n",
    "\n"
   ]
  },
  {
   "cell_type": "markdown",
   "metadata": {},
   "source": [
    " * each AFKCA also has a connection to ACS and SSS AFKCAs. Use their total budget. "
   ]
  },
  {
   "cell_type": "code",
   "execution_count": 57,
   "metadata": {},
   "outputs": [
    {
     "name": "stdout",
     "output_type": "stream",
     "text": [
      "['EXPEDITIONARY-RGM', 'EXPEDITIONARY-ACS (P&T)', 'BASES (P&T)']\n",
      "['0873', '1049', '0961']\n"
     ]
    }
   ],
   "source": [
    "import ast\n",
    "def extract_afkca(x):\n",
    "    x = x.replace('{','[').replace('}',']')\n",
    "    x = '{{{}}}'.format(x[1:-1])\n",
    "    x = ast.literal_eval(x)['AFKCA']\n",
    "    return x\n",
    "def extract_afkcaid(x):\n",
    "    x = x.replace('{','[').replace('}',']')\n",
    "    x = '{{{}}}'.format(x[1:-1])\n",
    "    x = ast.literal_eval(x)['AFKCAID']\n",
    "    return x\n",
    "df = pd.read_sql(''' SELECT * FROM PLANNING_UI_DEPLOY.LOOKUP_CONNECTION_AFKCA ''',quantum)\n",
    "print(extract_afkca(df.CONNECTED_AFKCA_ACS[0]))\n",
    "print(extract_afkcaid(df.CONNECTED_AFKCA_ACS[0]))"
   ]
  },
  {
   "cell_type": "code",
   "execution_count": 58,
   "metadata": {},
   "outputs": [
    {
     "name": "stdout",
     "output_type": "stream",
     "text": [
      "['AIM-120', 'TACTICAL AIM MSLS', 'TACTICAL AGM MSLS', 'STAND-IN ATTACK WPN', 'EXPEDITIONARY-GPA', 'STAND-OFF ATTACK WPN', 'OTHER MUNITIONS GPA', 'AGM-114 HELLFIRE', 'ADV TARGET PODS', 'JDAM', 'JASSM', 'LRASM', 'SDB'] ['0345', '0353', '0990', '1223', '0874', '0352', '0371', '0666', '0779', '0832', '0924', '1104', '1191']\n",
      "['TEST & EVALUATION', 'MGT HQ-AS', 'CCMD AGCY SPT-AS', 'AS (NA)', 'MISSION TRNG-AS', 'MISSION TRNG-GPA', 'T-38', 'MGT HQ-GPA', 'CCMD AGCY SPT-GPA', 'AIR OPS SQUADRON'] ['1063', '1085', '1209', '0506', '1075', '1077', '0110', '1016', '1194', '0505']\n"
     ]
    }
   ],
   "source": [
    "connected_ACS = df_afkca[df_afkca.AFKCA == 'F-15CD'].CONNECTED_AFKCA_ACS.iloc[0]\n",
    "connected_SSS = df_afkca[df_afkca.AFKCA == 'F-15CD'].CONNECTED_AFKCA_SSS.iloc[0]\n",
    "print(extract_afkca(connected_ACS), extract_afkcaid(connected_ACS))\n",
    "print(extract_afkca(connected_SSS), extract_afkcaid(connected_SSS))"
   ]
  },
  {
   "cell_type": "markdown",
   "metadata": {},
   "source": [
    "# Inflation adjustment\n",
    "\n",
    "Extract 2001 to 2023 from 2018-pegged dollars"
   ]
  },
  {
   "cell_type": "code",
   "execution_count": 69,
   "metadata": {},
   "outputs": [
    {
     "data": {
      "text/plain": [
       "array([1.44, 1.42, 1.39, 1.36, 1.32, 1.27, 1.25, 1.19, 1.19, 1.16, 1.14,\n",
       "       1.11, 1.09, 1.08, 1.08, 1.06, 1.04, 1.  , 1.  , 1.  , 1.  , 1.  ,\n",
       "       1.  ])"
      ]
     },
     "execution_count": 69,
     "metadata": {},
     "output_type": "execute_result"
    }
   ],
   "source": [
    "syr = 2001\n",
    "eyr = 2023\n",
    "dadj = pd.read_csv('DOLLAR_ADJ_sample.csv')\n",
    "dadj_scale = dadj.loc[dadj.CALENDAR_YEAR.isin(range(syr,eyr+1))].SCALE_FACTOR_Y2018.values\n",
    "dadj_scale"
   ]
  },
  {
   "cell_type": "markdown",
   "metadata": {},
   "source": [
    "2019-2023 should be less than one but are missing.  Extrapolating with linear model,"
   ]
  },
  {
   "cell_type": "code",
   "execution_count": 142,
   "metadata": {},
   "outputs": [
    {
     "data": {
      "text/plain": [
       "array([1.44      , 1.42      , 1.39      , 1.36      , 1.32      ,\n",
       "       1.27      , 1.25      , 1.19      , 1.19      , 1.16      ,\n",
       "       1.14      , 1.11      , 1.09      , 1.08      , 1.08      ,\n",
       "       1.06      , 1.04      , 1.        , 0.95581699, 0.930172  ,\n",
       "       0.904527  , 0.87888201, 0.85323701])"
      ]
     },
     "execution_count": 142,
     "metadata": {},
     "output_type": "execute_result"
    },
    {
     "data": {
      "image/png": "[encoded data removed]",
      "text/plain": [
       "<matplotlib.figure.Figure at 0x1a21cba828>"
      ]
     },
     "metadata": {},
     "output_type": "display_data"
    }
   ],
   "source": [
    "model=LinearRegression()\n",
    "Y = dadj_scale[:-5]\n",
    "X = np.array(range(len(Y)))\n",
    "X=X.reshape(-1,1)\n",
    "model.fit(X,Y)\n",
    "X_predict=np.array(range(23))\n",
    "X_predict = X_predict.reshape(-1,1)\n",
    "Y_predict = model.predict(X_predict)\n",
    "dadj_scale = np.array(list(dadj_scale[:-5]) + list(Y_predict[-5:]))\n",
    "plt.scatter(range(len(dadj_scale)), dadj_scale)\n",
    "dadj_scale"
   ]
  },
  {
   "cell_type": "markdown",
   "metadata": {},
   "source": [
    "* Sungho noted that the inflation adjustment is already in the data"
   ]
  },
  {
   "cell_type": "code",
   "execution_count": 440,
   "metadata": {},
   "outputs": [],
   "source": [
    "def extract_budget(afkca='F-15CD', kind='MILPERS'):\n",
    "    def lmap(func, alist):\n",
    "        return list(map(func, alist))\n",
    "    return np.array(lmap(float, df_budget[df_budget['AFKCA'] == afkca].iloc[0][kind].split(',')))\n",
    "\n",
    "milpers = extract_budget(afkca='F-15CD', kind='MILPERS')\n",
    "om = extract_budget(afkca='F-15CD', kind='OM')\n",
    "TAI = extract_budget('F-15CD', kind='FORCES_TAI')"
   ]
  },
  {
   "cell_type": "markdown",
   "metadata": {},
   "source": [
    "# MILPERS/TAI, OM/TAI both increase intrinsically"
   ]
  },
  {
   "cell_type": "code",
   "execution_count": 459,
   "metadata": {},
   "outputs": [
    {
     "data": {
      "text/plain": [
       "<matplotlib.collections.PathCollection at 0x1a287bd630>"
      ]
     },
     "execution_count": 459,
     "metadata": {},
     "output_type": "execute_result"
    },
    {
     "data": {
      "image/png": "[encoded data removed]",
      "text/plain": [
       "<matplotlib.figure.Figure at 0x1a289a5be0>"
      ]
     },
     "metadata": {},
     "output_type": "display_data"
    }
   ],
   "source": [
    "plt.scatter(range(len(milpers)), total_milpers/TAI)\n",
    "plt.scatter(range(len(om)), total_om/TAI)"
   ]
  },
  {
   "cell_type": "code",
   "execution_count": null,
   "metadata": {},
   "outputs": [],
   "source": []
  },
  {
   "cell_type": "code",
   "execution_count": 379,
   "metadata": {},
   "outputs": [
    {
     "data": {
      "text/plain": [
       "<matplotlib.collections.PathCollection at 0x1a26624f60>"
      ]
     },
     "execution_count": 379,
     "metadata": {},
     "output_type": "execute_result"
    },
    {
     "data": {
      "image/png": "[encoded data removed]",
      "text/plain": [
       "<matplotlib.figure.Figure at 0x1a2581d208>"
      ]
     },
     "metadata": {},
     "output_type": "display_data"
    }
   ],
   "source": [
    "plt.scatter(range(len(total_milpers)), total_milpers)\n",
    "plt.scatter(range(len(total_om)), total_om )"
   ]
  },
  {
   "cell_type": "markdown",
   "metadata": {},
   "source": [
    "# simple min/max scaler\n",
    "\n",
    "* map points function's lowest point to the horizontal axis\n",
    "* scale the max point to 2, subtract 1\n",
    "* output range: [-1,1]"
   ]
  },
  {
   "cell_type": "code",
   "execution_count": 266,
   "metadata": {},
   "outputs": [],
   "source": [
    "def get_min_max(seq):\n",
    "    min_ = min(seq)\n",
    "    seq = seq-min_\n",
    "    max_ = max(seq)\n",
    "    seq = seq/max_\n",
    "    return [(min_,max_),seq]\n",
    "\n",
    "def get_deltas(seq):\n",
    "    deltas = [] \n",
    "    i=0\n",
    "    while i < len(seq)-1:\n",
    "        deltas.append(seq[i+1]-seq[i])\n",
    "        i+=1\n",
    "    return np.array(deltas)"
   ]
  },
  {
   "cell_type": "code",
   "execution_count": 267,
   "metadata": {},
   "outputs": [
    {
     "data": {
      "text/plain": [
       "<matplotlib.collections.PathCollection at 0x1a223ee748>"
      ]
     },
     "execution_count": 267,
     "metadata": {},
     "output_type": "execute_result"
    },
    {
     "data": {
      "image/png": "[encoded data removed]",
      "text/plain": [
       "<matplotlib.figure.Figure at 0x1a2526f048>"
      ]
     },
     "metadata": {},
     "output_type": "display_data"
    }
   ],
   "source": [
    "plt.scatter(range(23),get_min_max(milpers/TAI)[1])\n",
    "plt.scatter(range(23), get_min_max(om/TAI)[1],s=10)"
   ]
  },
  {
   "cell_type": "code",
   "execution_count": 256,
   "metadata": {},
   "outputs": [],
   "source": [
    "def get_deltas(seq):\n",
    "    deltas = [] \n",
    "    i=0\n",
    "    while i < len(seq)-1:\n",
    "        deltas.append(seq[i+1]-seq[i])\n",
    "        i+=1\n",
    "    return np.array(deltas)"
   ]
  },
  {
   "cell_type": "markdown",
   "metadata": {},
   "source": [
    "# fractional budget/TAI change from 2002-2018"
   ]
  },
  {
   "cell_type": "code",
   "execution_count": 443,
   "metadata": {},
   "outputs": [
    {
     "data": {
      "text/plain": [
       "<matplotlib.collections.PathCollection at 0x1a2921e630>"
      ]
     },
     "execution_count": 443,
     "metadata": {},
     "output_type": "execute_result"
    },
    {
     "data": {
      "image/png": "[encoded data removed]",
      "text/plain": [
       "<matplotlib.figure.Figure at 0x1a290d9c50>"
      ]
     },
     "metadata": {},
     "output_type": "display_data"
    }
   ],
   "source": [
    "plt.scatter(range(18), get_min_max(total_milpers)[1][:-5])\n",
    "plt.scatter(range(18), get_min_max(total_om)[1][:-5])"
   ]
  },
  {
   "cell_type": "code",
   "execution_count": null,
   "metadata": {},
   "outputs": [],
   "source": []
  },
  {
   "cell_type": "code",
   "execution_count": 269,
   "metadata": {},
   "outputs": [
    {
     "data": {
      "text/plain": [
       "<matplotlib.collections.PathCollection at 0x1a21d8d278>"
      ]
     },
     "execution_count": 269,
     "metadata": {},
     "output_type": "execute_result"
    },
    {
     "data": {
      "image/png": "[encoded data removed]",
      "text/plain": [
       "<matplotlib.figure.Figure at 0x1a21e15080>"
      ]
     },
     "metadata": {},
     "output_type": "display_data"
    }
   ],
   "source": [
    "plt.scatter(range(17), get_min_max(get_deltas(milpers))[1][:-5])\n",
    "plt.scatter(range(17), get_min_max(get_deltas(om))[1][:-5])"
   ]
  },
  {
   "cell_type": "code",
   "execution_count": 271,
   "metadata": {},
   "outputs": [
    {
     "name": "stdout",
     "output_type": "stream",
     "text": [
      "['AIM-120', 'TACTICAL AIM MSLS', 'TACTICAL AGM MSLS', 'STAND-IN ATTACK WPN', 'EXPEDITIONARY-GPA', 'STAND-OFF ATTACK WPN', 'OTHER MUNITIONS GPA', 'AGM-114 HELLFIRE', 'ADV TARGET PODS', 'JDAM', 'JASSM', 'LRASM', 'SDB'] ['TEST & EVALUATION', 'MGT HQ-AS', 'CCMD AGCY SPT-AS', 'AS (NA)', 'MISSION TRNG-AS', 'MISSION TRNG-GPA', 'T-38', 'MGT HQ-GPA', 'CCMD AGCY SPT-GPA', 'AIR OPS SQUADRON']\n"
     ]
    }
   ],
   "source": [
    "import ast\n",
    "def extract_afkca(x):\n",
    "    x = x.replace('{','[').replace('}',']')\n",
    "    x = '{{{}}}'.format(x[1:-1])\n",
    "    x = ast.literal_eval(x)['AFKCA']\n",
    "    return x\n",
    "\n",
    "connected_ACS = df_afkca[df_afkca.AFKCA == 'F-15CD'].CONNECTED_AFKCA_ACS.iloc[0]\n",
    "connected_SSS = df_afkca[df_afkca.AFKCA == 'F-15CD'].CONNECTED_AFKCA_SSS.iloc[0]\n",
    "print(extract_afkca(connected_ACS), extract_afkca(connected_SSS))"
   ]
  },
  {
   "cell_type": "code",
   "execution_count": 296,
   "metadata": {},
   "outputs": [
    {
     "name": "stdout",
     "output_type": "stream",
     "text": [
      "AIR OPS SQUADRON [0. 0. 0. 0. 0. 0. 0. 0. 0. 0. 0. 0. 0. 0. 0. 0. 0. 0. 0. 0. 0. 0. 0.] [ 9943.  9790. 13826. 13885.  4654.  5690.  5851.  6548.  7169. 14377.\n",
      "  8129.  7867.  7983.  8876. 10686. 15469. 13783. 13522. 16283. 14928.\n",
      " 15274. 15784. 16353.]\n",
      "AIR OPS SQUADRON [0. 0. 0. 0. 0. 0. 0. 0. 0. 0. 0. 0. 0. 0. 0. 0. 0. 0. 0. 0. 0. 0. 0.] [22445. 17860. 17019. 25266. 19649. 24008. 20331. 18469. 20034. 13366.\n",
      " 14960. 23287. 15752. 19052. 20637. 25960. 23491. 22083. 25801. 27418.\n",
      " 25891. 25596. 25885.]\n",
      "AIR OPS SQUADRON [0. 0. 0. 0. 0. 0. 0. 0. 0. 0. 0. 0. 0. 0. 0. 0. 0. 0. 0. 0. 0. 0. 0.] [14096. 11538. 11339. 16141. 18115. 20354. 18066. 16699. 17326. 14064.\n",
      " 15738. 16312. 13652. 13012. 14246. 16258. 15871. 13820. 15295. 14890.\n",
      " 14642. 15239. 15365.]\n",
      "AIR OPS SQUADRON [0. 0. 0. 0. 0. 0. 0. 0. 0. 0. 0. 0. 0. 0. 0. 0. 0. 0. 0. 0. 0. 0. 0.] [0. 0. 0. 0. 0. 0. 0. 0. 0. 0. 0. 0. 0. 0. 0. 0. 0. 0. 0. 0. 0. 0. 0.]\n",
      "AIR OPS SQUADRON [1055262. 1174550. 1897231. 2351865. 2362462. 2139514. 2244041. 2113268.\n",
      " 2212633. 2311857. 2402332. 2493402. 2574179. 2520241. 2661395. 2584901.\n",
      " 2416532. 2376450. 2492540. 2605821. 2653734. 2694324. 2759937.] [     0.    411.   6138.  12559.  55527.  76180.  72065.  37376.  33461.\n",
      "  23014.  12128.  85364.  84944.  94416.  22242.  22449.  22883. 142341.\n",
      " 153902. 152671. 154740. 176885. 180077.]\n",
      "AIR OPS SQUADRON [10067. 11425. 13040. 12728. 12687. 11083. 11207. 10763.  8124.  5950.\n",
      "  6173.  6249.  6398.  6172.  6375.  5355.  4343.  2068.     0.     0.\n",
      "     0.     0.     0.] [34656. 34700. 37007. 28123. 29568. 33806. 26178. 28650. 22901. 13293.\n",
      " 34407. 32055. 32171. 11816. 11022. 19840.  9404.  7492. 10543. 10976.\n",
      " 11716. 11691. 11517.]\n",
      "AIR OPS SQUADRON [218023. 226115. 242990. 249696. 263345. 212370. 199065. 227075. 248487.\n",
      " 234197. 247198. 235137. 228393. 208293. 215503. 203637. 194605. 191945.\n",
      " 195911. 201664. 207137. 212014. 216980.] [55658. 53844. 49529. 50574. 48987. 51836. 54700. 49142. 43098. 56060.\n",
      " 57595. 49065. 42069. 45352. 47972. 50325. 38686. 41957. 47254. 46903.\n",
      " 51562. 46017. 46216.]\n",
      "AIR OPS SQUADRON [   0.    0.    0.    0.    0.    0.    0.    0.  838.  151.    0.    0.\n",
      "    0.  162.  345.    0. 1411. 2750. 3256. 3372. 3457. 3543. 3620.] [  0.   0.   0.   0.   0.   0.   0. 468. 467. 392. 398. 385. 306. 572.\n",
      " 575. 661. 729. 515. 648. 858. 686. 698. 996.]\n",
      "AIR OPS SQUADRON [0. 0. 0. 0. 0. 0. 0. 0. 0. 0. 0. 0. 0. 0. 0. 0. 0. 0. 0. 0. 0. 0. 0.] [10668.  9156.  9093. 16681. 15709. 14220. 13558. 10713. 19488. 25059.\n",
      " 16574. 61397. 40226. 81447. 84157. 62112. 65440. 81613. 77638. 78963.\n",
      " 85265. 88590. 96080.]\n",
      "AIR OPS SQUADRON [0. 0. 0. 0. 0. 0. 0. 0. 0. 0. 0. 0. 0. 0. 0. 0. 0. 0. 0. 0. 0. 0. 0.] [253. 295. 469.  32. 290. 373. 207. 453. 449. 142. 139. 177. 151. 152.\n",
      " 125. 139. 142. 138. 138. 141. 143. 145. 148.]\n",
      "AIR OPS SQUADRON [1380. 1435. 1555.  787.    0.    0.    0.    0.    0.    0.    0.    0.\n",
      "    0.    0.    0.    0.    0.    0.    0.    0.    0.    0.    0.] [    0.   176.  1719.  3836.  3863.  4304.  9051.  6045.  6154.  6910.\n",
      "  7268.  9114.  8338. 13071. 14374. 15062. 17459. 18354. 19292. 22724.\n",
      " 23662. 23315. 25891.]\n",
      "AIR OPS SQUADRON [1380. 1435. 1555.  787.    0.    0.    0.    0.    0.    0.    0.    0.\n",
      "    0.    0.    0.    0.    0.    0.    0.    0.    0.    0.    0.] [    0.   176.  1719.  3836.  3863.  4304.  9051.  6045.  6154.  6910.\n",
      "  7268.  9114.  8338. 13071. 14374. 15062. 17459. 18354. 19292. 22724.\n",
      " 23662. 23315. 25891.]\n",
      "AIR OPS SQUADRON [0. 0. 0. 0. 0. 0. 0. 0. 0. 0. 0. 0. 0. 0. 0. 0. 0. 0. 0. 0. 0. 0. 0.] [    0.     0.     0.   259.   254.  2588.  5333.  4439.  6174.  5046.\n",
      "  5922.  6728.  7070.  7366.  9752. 13013. 12132. 14207. 16495. 18182.\n",
      " 16167. 19954. 16976.]\n",
      "AIR OPS SQUADRON [398129. 428007. 502434. 506036. 500715. 431589. 424157. 417022. 410697.\n",
      " 394725. 429176. 445444. 454141. 452205. 471660. 436095. 427945. 425058.\n",
      " 441635. 451535. 464159. 481591. 492565.] [183519. 210537. 254761. 240982. 235164. 248091. 244713. 258606. 283468.\n",
      " 252617. 359578. 343041. 282635. 272646. 272044. 243399. 257142. 268448.\n",
      " 254766. 261767. 269541. 286435. 291778.]\n",
      "AIR OPS SQUADRON [253749. 307527. 316081. 307096. 310493. 290842. 299612. 318626. 317607.\n",
      " 328841. 320464. 306333. 289762. 311415. 267179. 221464. 167792. 143952.\n",
      " 128024. 132716. 136131. 139757. 142819.] [ 99885. 149301. 169705. 172331. 150882. 154421. 147993. 158543. 177398.\n",
      " 183133. 225177. 213364. 195157. 195316. 172673. 155462. 152874. 144803.\n",
      " 140183. 138527. 135631. 136733. 139532.]\n",
      "AIR OPS SQUADRON [    0.     0.     0.     0.     0.     0.     0.     0.     0.     0.\n",
      "     0.     0.     0.     0.     0.     0.     0. 12274. 25529. 26418.\n",
      " 27094. 27777. 28375.] [   0.    0.    0.    0.    0.    0.    0.    0.    0.    0.    0.    0.\n",
      "    0.    0.    0.    0.    0. 5772. 5892. 5921. 5899. 6043. 6168.]\n",
      "AIR OPS SQUADRON [0. 0. 0. 0. 0. 0. 0. 0. 0. 0. 0. 0. 0. 0. 0. 0. 0. 0. 0. 0. 0. 0. 0.] [5.346e+03 3.863e+03 3.682e+03 1.804e+03 1.599e+03 2.032e+03 1.491e+03\n",
      " 1.877e+03 6.940e+02 5.220e+02 5.090e+02 3.880e+02 4.240e+02 4.170e+02\n",
      " 3.450e+02 3.830e+02 3.860e+02 0.000e+00 1.000e+00 1.000e+00 1.000e+00\n",
      " 1.000e+00 0.000e+00]\n",
      "AIR OPS SQUADRON [ 637532.  676620.  764676.  803078.  832751.  762560.  775217.  802258.\n",
      "  828721.  721328.  681563.  751745.  855018.  883032.  892294.  795104.\n",
      "  789835.  825849.  935310.  995906. 1045614. 1114763. 1148311.] [1171736. 1273650. 1792088. 1753185. 1774918. 1841795. 1825916. 1796547.\n",
      " 1768856. 1582503. 1674534. 1557948. 1593352. 1713792. 1751310. 1981090.\n",
      " 1889163. 1892672. 2061753. 2256345. 2441016. 2404080. 2318264.]\n",
      "AIR OPS SQUADRON [3168. 3342. 3661. 3904. 3886. 2268. 2485. 2439. 3114. 3062. 3149. 4070.\n",
      " 3906. 6341. 3298. 3685. 4400. 4960. 7816. 8502. 8672. 8981. 9175.] [10473. 12170. 15422. 15599. 12571. 12830. 15443. 15769. 19135. 19054.\n",
      " 21475. 20719. 21912. 21737. 21548. 25319. 24472. 25254. 27062. 24109.\n",
      " 24201. 27463. 28730.]\n",
      "AIR OPS SQUADRON [ 985017. 1090737. 1222203. 1264761. 1313426. 1240602. 1301078. 1373431.\n",
      " 1456505. 1451828. 1466334. 1458363. 1449807. 1464562. 1494108. 1345895.\n",
      " 1327119. 1362272. 1500859. 1581836. 1639397. 1714492. 1755803.] [1870860. 2002627. 2486302. 2396726. 2511862. 3059374. 3186077. 3228596.\n",
      " 3365130. 3183571. 3370375. 3118945. 3151574. 3091455. 3143388. 3089143.\n",
      " 2929551. 2977135. 3383872. 3656581. 3768001. 3774399. 3680219.]\n",
      "AIR OPS SQUADRON [0. 0. 0. 0. 0. 0. 0. 0. 0. 0. 0. 0. 0. 0. 0. 0. 0. 0. 0. 0. 0. 0. 0.] [2332. 2340. 2230. 2465. 2365. 2274. 1702. 1141. 1140.  849.  365.   76.\n",
      "   58.   43.   33.   30.   34.   35.   34.   34.   34.   34.   34.]\n",
      "AIR OPS SQUADRON [  0.   0.   0.   0.   0.   0.   0. 217. 226. 219. 446. 229. 231. 230.\n",
      " 253. 236. 227. 223. 230. 240. 245. 251. 256.] [ 0.  0.  0.  0.  0.  0.  0. 70. 90. 85. 85. 79.  0.  0.  0.  0.  0.  0.\n",
      "  0.  0.  0.  0.  0.]\n",
      "AIR OPS SQUADRON [4710. 4911. 4726. 4364. 4819. 4287. 4257. 4498. 4445. 4337. 4914. 4141.\n",
      " 3266. 3215. 3155. 2926. 2817. 2717. 2794. 2894. 2967. 3041. 3106.] [ 815.  833. 1242. 3189. 3074. 3298. 3090. 3132. 3257. 2780. 3405. 3105.\n",
      " 3072. 4912. 4588. 4562. 4602. 5257. 5261. 5340. 5460. 5586. 5693.]\n"
     ]
    }
   ],
   "source": [
    "all_connections = extract_afkca(connected_ACS) + extract_afkca(connected_SSS)\n",
    "\n",
    "def extract_budget(afkca='F-15CD', kind='MILPERS'):\n",
    "    def lmap(func, alist):\n",
    "        return list(map(func, alist))\n",
    "    return np.array(lmap(float, df_budget[df_budget['AFKCA'] == afkca].iloc[0][kind].split(',')))\n",
    "\n",
    "for afk in all_connections:\n",
    "    print(afkca, extract_budget(afkca=afk, kind='MILPERS'), extract_budget(afkca=afk, kind='OM'))"
   ]
  },
  {
   "cell_type": "markdown",
   "metadata": {},
   "source": [
    "# Extract total connected budgets"
   ]
  },
  {
   "cell_type": "code",
   "execution_count": 318,
   "metadata": {},
   "outputs": [],
   "source": [
    "connected_ACS = df_afkca[df_afkca.AFKCA == 'F-15CD'].CONNECTED_AFKCA_ACS.iloc[0]\n",
    "connected_SSS = df_afkca[df_afkca.AFKCA == 'F-15CD'].CONNECTED_AFKCA_SSS.iloc[0]\n",
    "all_connections = extract_afkca(connected_ACS) + extract_afkca(connected_SSS)\n",
    "\n",
    "total_milpers = extract_budget(afkca='F-15CD', kind='MILPERS')\n",
    "for afk in all_connections:\n",
    "    total_milpers = total_milpers + extract_budget(afkca=afk, kind='MILPERS')\n",
    "\n",
    "total_om = extract_budget(afkca='F-15CD', kind='OM')\n",
    "for afk in all_connections:\n",
    "    total_om = total_om + extract_budget(afkca=afk, kind='OM')\n"
   ]
  },
  {
   "cell_type": "markdown",
   "metadata": {},
   "source": [
    "# Extract Availability"
   ]
  },
  {
   "cell_type": "code",
   "execution_count": 18,
   "metadata": {},
   "outputs": [],
   "source": [
    "availability=np.array(list(df_availability[df_availability.AFKCA=='F-15CD'].AVAILABILITY)[2:])"
   ]
  },
  {
   "cell_type": "markdown",
   "metadata": {},
   "source": [
    "# see trends in budget vars"
   ]
  },
  {
   "cell_type": "code",
   "execution_count": 19,
   "metadata": {},
   "outputs": [
    {
     "data": {
      "text/plain": [
       "<matplotlib.collections.PathCollection at 0x11bb8f048>"
      ]
     },
     "execution_count": 19,
     "metadata": {},
     "output_type": "execute_result"
    },
    {
     "data": {
      "image/png": "[encoded data removed]",
      "text/plain": [
       "<matplotlib.figure.Figure at 0x11b776d30>"
      ]
     },
     "metadata": {},
     "output_type": "display_data"
    }
   ],
   "source": [
    "plt.scatter(range(17), get_min_max(total_milpers/TAI)[1][1:-5],color='red')\n",
    "plt.scatter(range(17), get_min_max(total_om/TAI)[1][1:-5],color='orange')\n",
    "plt.scatter(range(17), get_min_max(availability)[1], color='k', marker='x')\n",
    "plt.scatter(range(17), get_min_max(total_milpers)[1][1:-5],color='blue')\n",
    "plt.scatter(range(17), get_min_max(total_om)[1][1:-5],color='cyan')"
   ]
  },
  {
   "cell_type": "code",
   "execution_count": 20,
   "metadata": {},
   "outputs": [
    {
     "data": {
      "text/plain": [
       "<matplotlib.collections.PathCollection at 0x11bbc3550>"
      ]
     },
     "execution_count": 20,
     "metadata": {},
     "output_type": "execute_result"
    },
    {
     "data": {
      "image/png": "[encoded data removed]",
      "text/plain": [
       "<matplotlib.figure.Figure at 0x11bae2860>"
      ]
     },
     "metadata": {},
     "output_type": "display_data"
    }
   ],
   "source": [
    "plt.scatter(range(17), get_min_max(get_deltas(total_milpers/TAI))[1][:-5],color='red')\n",
    "plt.scatter(range(17), get_min_max(get_deltas(total_om/TAI))[1][:-5],color='orange')\n",
    "plt.scatter(range(17), get_min_max(availability)[1], color='k', marker='x')\n",
    "plt.scatter(range(17), get_min_max(get_deltas(total_milpers))[1][:-5],color='blue')\n",
    "plt.scatter(range(17), get_min_max(get_deltas(total_om))[1][:-5],color='cyan')"
   ]
  },
  {
   "cell_type": "code",
   "execution_count": 21,
   "metadata": {},
   "outputs": [
    {
     "data": {
      "text/plain": [
       "<matplotlib.collections.PathCollection at 0x11bd14550>"
      ]
     },
     "execution_count": 21,
     "metadata": {},
     "output_type": "execute_result"
    },
    {
     "data": {
      "image/png": "[encoded data removed]",
      "text/plain": [
       "<matplotlib.figure.Figure at 0x11b2a9588>"
      ]
     },
     "metadata": {},
     "output_type": "display_data"
    }
   ],
   "source": [
    "plt.scatter(range(17), get_min_max(get_deltas(total_milpers/TAI))[1][:-5],color='r')\n",
    "plt.scatter(range(17), get_min_max(get_deltas(total_om/TAI))[1][:-5],color='g')\n",
    "plt.scatter(range(17), get_min_max(availability)[1], color='b')"
   ]
  },
  {
   "cell_type": "code",
   "execution_count": 327,
   "metadata": {},
   "outputs": [
    {
     "data": {
      "text/html": [
       "<div>\n",
       "<style scoped>\n",
       "    .dataframe tbody tr th:only-of-type {\n",
       "        vertical-align: middle;\n",
       "    }\n",
       "\n",
       "    .dataframe tbody tr th {\n",
       "        vertical-align: top;\n",
       "    }\n",
       "\n",
       "    .dataframe thead th {\n",
       "        text-align: right;\n",
       "    }\n",
       "</style>\n",
       "<table border=\"1\" class=\"dataframe\">\n",
       "  <thead>\n",
       "    <tr style=\"text-align: right;\">\n",
       "      <th></th>\n",
       "      <th>AFKCA_TYPEID</th>\n",
       "      <th>AFKCA_TYPE</th>\n",
       "      <th>AFKCAID</th>\n",
       "      <th>AFKCA</th>\n",
       "      <th>RULE_BASE</th>\n",
       "      <th>OPS</th>\n",
       "      <th>FISCAL_YEAR</th>\n",
       "      <th>MCH</th>\n",
       "      <th>PSH</th>\n",
       "      <th>AVAILABILITY</th>\n",
       "    </tr>\n",
       "  </thead>\n",
       "  <tbody>\n",
       "    <tr>\n",
       "      <th>416</th>\n",
       "      <td>21</td>\n",
       "      <td>FIGHTERS</td>\n",
       "      <td>0137</td>\n",
       "      <td>F-15CD</td>\n",
       "      <td>PER_TAI</td>\n",
       "      <td>OPS</td>\n",
       "      <td>2000</td>\n",
       "      <td>1739792</td>\n",
       "      <td>2245028</td>\n",
       "      <td>0.774953</td>\n",
       "    </tr>\n",
       "    <tr>\n",
       "      <th>417</th>\n",
       "      <td>21</td>\n",
       "      <td>FIGHTERS</td>\n",
       "      <td>0137</td>\n",
       "      <td>F-15CD</td>\n",
       "      <td>PER_TAI</td>\n",
       "      <td>OPS</td>\n",
       "      <td>2001</td>\n",
       "      <td>2379442</td>\n",
       "      <td>3038028</td>\n",
       "      <td>0.783219</td>\n",
       "    </tr>\n",
       "    <tr>\n",
       "      <th>418</th>\n",
       "      <td>21</td>\n",
       "      <td>FIGHTERS</td>\n",
       "      <td>0137</td>\n",
       "      <td>F-15CD</td>\n",
       "      <td>PER_TAI</td>\n",
       "      <td>OPS</td>\n",
       "      <td>2002</td>\n",
       "      <td>2459140</td>\n",
       "      <td>3068451</td>\n",
       "      <td>0.801427</td>\n",
       "    </tr>\n",
       "    <tr>\n",
       "      <th>419</th>\n",
       "      <td>21</td>\n",
       "      <td>FIGHTERS</td>\n",
       "      <td>0137</td>\n",
       "      <td>F-15CD</td>\n",
       "      <td>PER_TAI</td>\n",
       "      <td>OPS</td>\n",
       "      <td>2003</td>\n",
       "      <td>2375630</td>\n",
       "      <td>3004489</td>\n",
       "      <td>0.790694</td>\n",
       "    </tr>\n",
       "    <tr>\n",
       "      <th>420</th>\n",
       "      <td>21</td>\n",
       "      <td>FIGHTERS</td>\n",
       "      <td>0137</td>\n",
       "      <td>F-15CD</td>\n",
       "      <td>PER_TAI</td>\n",
       "      <td>OPS</td>\n",
       "      <td>2004</td>\n",
       "      <td>2394432</td>\n",
       "      <td>3026246</td>\n",
       "      <td>0.791222</td>\n",
       "    </tr>\n",
       "    <tr>\n",
       "      <th>421</th>\n",
       "      <td>21</td>\n",
       "      <td>FIGHTERS</td>\n",
       "      <td>0137</td>\n",
       "      <td>F-15CD</td>\n",
       "      <td>PER_TAI</td>\n",
       "      <td>OPS</td>\n",
       "      <td>2005</td>\n",
       "      <td>2355705</td>\n",
       "      <td>3000711</td>\n",
       "      <td>0.785049</td>\n",
       "    </tr>\n",
       "    <tr>\n",
       "      <th>422</th>\n",
       "      <td>21</td>\n",
       "      <td>FIGHTERS</td>\n",
       "      <td>0137</td>\n",
       "      <td>F-15CD</td>\n",
       "      <td>PER_TAI</td>\n",
       "      <td>OPS</td>\n",
       "      <td>2006</td>\n",
       "      <td>2367607</td>\n",
       "      <td>2989381</td>\n",
       "      <td>0.792006</td>\n",
       "    </tr>\n",
       "    <tr>\n",
       "      <th>423</th>\n",
       "      <td>21</td>\n",
       "      <td>FIGHTERS</td>\n",
       "      <td>0137</td>\n",
       "      <td>F-15CD</td>\n",
       "      <td>PER_TAI</td>\n",
       "      <td>OPS</td>\n",
       "      <td>2007</td>\n",
       "      <td>2340505</td>\n",
       "      <td>2996013</td>\n",
       "      <td>0.781207</td>\n",
       "    </tr>\n",
       "    <tr>\n",
       "      <th>424</th>\n",
       "      <td>21</td>\n",
       "      <td>FIGHTERS</td>\n",
       "      <td>0137</td>\n",
       "      <td>F-15CD</td>\n",
       "      <td>PER_TAI</td>\n",
       "      <td>OPS</td>\n",
       "      <td>2008</td>\n",
       "      <td>1832624</td>\n",
       "      <td>2707461</td>\n",
       "      <td>0.676879</td>\n",
       "    </tr>\n",
       "    <tr>\n",
       "      <th>425</th>\n",
       "      <td>21</td>\n",
       "      <td>FIGHTERS</td>\n",
       "      <td>0137</td>\n",
       "      <td>F-15CD</td>\n",
       "      <td>PER_TAI</td>\n",
       "      <td>OPS</td>\n",
       "      <td>2009</td>\n",
       "      <td>2082857</td>\n",
       "      <td>2866861</td>\n",
       "      <td>0.726529</td>\n",
       "    </tr>\n",
       "    <tr>\n",
       "      <th>426</th>\n",
       "      <td>21</td>\n",
       "      <td>FIGHTERS</td>\n",
       "      <td>0137</td>\n",
       "      <td>F-15CD</td>\n",
       "      <td>PER_TAI</td>\n",
       "      <td>OPS</td>\n",
       "      <td>2010</td>\n",
       "      <td>1841413</td>\n",
       "      <td>2558339</td>\n",
       "      <td>0.719769</td>\n",
       "    </tr>\n",
       "    <tr>\n",
       "      <th>427</th>\n",
       "      <td>21</td>\n",
       "      <td>FIGHTERS</td>\n",
       "      <td>0137</td>\n",
       "      <td>F-15CD</td>\n",
       "      <td>PER_TAI</td>\n",
       "      <td>OPS</td>\n",
       "      <td>2011</td>\n",
       "      <td>1223432</td>\n",
       "      <td>1859229</td>\n",
       "      <td>0.658032</td>\n",
       "    </tr>\n",
       "    <tr>\n",
       "      <th>428</th>\n",
       "      <td>21</td>\n",
       "      <td>FIGHTERS</td>\n",
       "      <td>0137</td>\n",
       "      <td>F-15CD</td>\n",
       "      <td>PER_TAI</td>\n",
       "      <td>OPS</td>\n",
       "      <td>2012</td>\n",
       "      <td>1296526</td>\n",
       "      <td>1861683</td>\n",
       "      <td>0.696427</td>\n",
       "    </tr>\n",
       "    <tr>\n",
       "      <th>429</th>\n",
       "      <td>21</td>\n",
       "      <td>FIGHTERS</td>\n",
       "      <td>0137</td>\n",
       "      <td>F-15CD</td>\n",
       "      <td>PER_TAI</td>\n",
       "      <td>OPS</td>\n",
       "      <td>2013</td>\n",
       "      <td>1349694</td>\n",
       "      <td>1837601</td>\n",
       "      <td>0.734487</td>\n",
       "    </tr>\n",
       "    <tr>\n",
       "      <th>430</th>\n",
       "      <td>21</td>\n",
       "      <td>FIGHTERS</td>\n",
       "      <td>0137</td>\n",
       "      <td>F-15CD</td>\n",
       "      <td>PER_TAI</td>\n",
       "      <td>OPS</td>\n",
       "      <td>2014</td>\n",
       "      <td>1344858</td>\n",
       "      <td>1839645</td>\n",
       "      <td>0.731042</td>\n",
       "    </tr>\n",
       "    <tr>\n",
       "      <th>431</th>\n",
       "      <td>21</td>\n",
       "      <td>FIGHTERS</td>\n",
       "      <td>0137</td>\n",
       "      <td>F-15CD</td>\n",
       "      <td>PER_TAI</td>\n",
       "      <td>OPS</td>\n",
       "      <td>2015</td>\n",
       "      <td>1256577</td>\n",
       "      <td>1797066</td>\n",
       "      <td>0.699238</td>\n",
       "    </tr>\n",
       "    <tr>\n",
       "      <th>432</th>\n",
       "      <td>21</td>\n",
       "      <td>FIGHTERS</td>\n",
       "      <td>0137</td>\n",
       "      <td>F-15CD</td>\n",
       "      <td>PER_TAI</td>\n",
       "      <td>OPS</td>\n",
       "      <td>2016</td>\n",
       "      <td>1229332</td>\n",
       "      <td>1765947</td>\n",
       "      <td>0.696132</td>\n",
       "    </tr>\n",
       "    <tr>\n",
       "      <th>433</th>\n",
       "      <td>21</td>\n",
       "      <td>FIGHTERS</td>\n",
       "      <td>0137</td>\n",
       "      <td>F-15CD</td>\n",
       "      <td>PER_TAI</td>\n",
       "      <td>OPS</td>\n",
       "      <td>2017</td>\n",
       "      <td>1196886</td>\n",
       "      <td>1682171</td>\n",
       "      <td>0.711513</td>\n",
       "    </tr>\n",
       "    <tr>\n",
       "      <th>434</th>\n",
       "      <td>21</td>\n",
       "      <td>FIGHTERS</td>\n",
       "      <td>0137</td>\n",
       "      <td>F-15CD</td>\n",
       "      <td>PER_TAI</td>\n",
       "      <td>OPS</td>\n",
       "      <td>2018</td>\n",
       "      <td>1081035</td>\n",
       "      <td>1518921</td>\n",
       "      <td>0.711712</td>\n",
       "    </tr>\n",
       "  </tbody>\n",
       "</table>\n",
       "</div>"
      ],
      "text/plain": [
       "    AFKCA_TYPEID AFKCA_TYPE AFKCAID   AFKCA RULE_BASE  OPS  FISCAL_YEAR  \\\n",
       "416           21   FIGHTERS    0137  F-15CD   PER_TAI  OPS         2000   \n",
       "417           21   FIGHTERS    0137  F-15CD   PER_TAI  OPS         2001   \n",
       "418           21   FIGHTERS    0137  F-15CD   PER_TAI  OPS         2002   \n",
       "419           21   FIGHTERS    0137  F-15CD   PER_TAI  OPS         2003   \n",
       "420           21   FIGHTERS    0137  F-15CD   PER_TAI  OPS         2004   \n",
       "421           21   FIGHTERS    0137  F-15CD   PER_TAI  OPS         2005   \n",
       "422           21   FIGHTERS    0137  F-15CD   PER_TAI  OPS         2006   \n",
       "423           21   FIGHTERS    0137  F-15CD   PER_TAI  OPS         2007   \n",
       "424           21   FIGHTERS    0137  F-15CD   PER_TAI  OPS         2008   \n",
       "425           21   FIGHTERS    0137  F-15CD   PER_TAI  OPS         2009   \n",
       "426           21   FIGHTERS    0137  F-15CD   PER_TAI  OPS         2010   \n",
       "427           21   FIGHTERS    0137  F-15CD   PER_TAI  OPS         2011   \n",
       "428           21   FIGHTERS    0137  F-15CD   PER_TAI  OPS         2012   \n",
       "429           21   FIGHTERS    0137  F-15CD   PER_TAI  OPS         2013   \n",
       "430           21   FIGHTERS    0137  F-15CD   PER_TAI  OPS         2014   \n",
       "431           21   FIGHTERS    0137  F-15CD   PER_TAI  OPS         2015   \n",
       "432           21   FIGHTERS    0137  F-15CD   PER_TAI  OPS         2016   \n",
       "433           21   FIGHTERS    0137  F-15CD   PER_TAI  OPS         2017   \n",
       "434           21   FIGHTERS    0137  F-15CD   PER_TAI  OPS         2018   \n",
       "\n",
       "         MCH      PSH  AVAILABILITY  \n",
       "416  1739792  2245028      0.774953  \n",
       "417  2379442  3038028      0.783219  \n",
       "418  2459140  3068451      0.801427  \n",
       "419  2375630  3004489      0.790694  \n",
       "420  2394432  3026246      0.791222  \n",
       "421  2355705  3000711      0.785049  \n",
       "422  2367607  2989381      0.792006  \n",
       "423  2340505  2996013      0.781207  \n",
       "424  1832624  2707461      0.676879  \n",
       "425  2082857  2866861      0.726529  \n",
       "426  1841413  2558339      0.719769  \n",
       "427  1223432  1859229      0.658032  \n",
       "428  1296526  1861683      0.696427  \n",
       "429  1349694  1837601      0.734487  \n",
       "430  1344858  1839645      0.731042  \n",
       "431  1256577  1797066      0.699238  \n",
       "432  1229332  1765947      0.696132  \n",
       "433  1196886  1682171      0.711513  \n",
       "434  1081035  1518921      0.711712  "
      ]
     },
     "execution_count": 327,
     "metadata": {},
     "output_type": "execute_result"
    }
   ],
   "source": [
    "df_availability[df_availability.AFKCA=='F-15CD']"
   ]
  },
  {
   "cell_type": "markdown",
   "metadata": {},
   "source": [
    "# Models"
   ]
  },
  {
   "cell_type": "markdown",
   "metadata": {},
   "source": [
    "## F-15CD"
   ]
  },
  {
   "cell_type": "code",
   "execution_count": 17,
   "metadata": {},
   "outputs": [
    {
     "name": "stdout",
     "output_type": "stream",
     "text": [
      "0.04359169943499235\n",
      "0.0850282870843839\n",
      "0.1362512732243494\n",
      "0.034125190253953205\n",
      "0.4543229674042706\n",
      "-0.6273419881674618\n",
      "-0.8767810990530593\n",
      "3.5745259767827097e-31\n"
     ]
    },
    {
     "data": {
      "image/png": "[encoded data removed]",
      "text/plain": [
       "<matplotlib.figure.Figure at 0x11ba2b630>"
      ]
     },
     "metadata": {},
     "output_type": "display_data"
    }
   ],
   "source": [
    "import numpy as np\n",
    "import pandas as pd\n",
    "import mysql.connector\n",
    "import json\n",
    "import math\n",
    "import datetime\n",
    "import argparse\n",
    "import matplotlib.pyplot as plt\n",
    "from operator import add, truediv\n",
    "from sklearn.preprocessing import MinMaxScaler\n",
    "from sklearn.linear_model import Ridge, RidgeCV, LinearRegression\n",
    "from scipy.stats.stats import pearsonr\n",
    "\n",
    "\n",
    "\n",
    "\n",
    "import ast\n",
    "def extract_afkca(x):\n",
    "    x = x.replace('{','[').replace('}',']')\n",
    "    x = '{{{}}}'.format(x[1:-1])\n",
    "    x = ast.literal_eval(x)['AFKCA']\n",
    "    return x\n",
    "\n",
    "\n",
    "def extract_budget(afkca='F-15CD', kind='MILPERS'):\n",
    "    def lmap(func, alist):\n",
    "        return list(map(func, alist))\n",
    "    return np.array(lmap(float, df_budget[df_budget['AFKCA'] == afkca].iloc[0][kind].split(',')))\n",
    "\n",
    "def get_min_max(seq):\n",
    "    min_ = min(seq)\n",
    "    seq = seq-min_\n",
    "    max_ = max(seq)\n",
    "    seq = seq/max_\n",
    "    return [(min_,max_),seq]\n",
    "\n",
    "def get_deltas(seq):\n",
    "    deltas = [] \n",
    "    i=0\n",
    "    while i < len(seq)-1:\n",
    "        deltas.append(seq[i+1]-seq[i])\n",
    "        i+=1\n",
    "    return np.array(deltas)\n",
    "\n",
    "TAI = extract_budget('F-15CD', kind='FORCES_TAI')\n",
    "\n",
    "\n",
    "connected_ACS = df_afkca[df_afkca.AFKCA == 'F-15CD'].CONNECTED_AFKCA_ACS.iloc[0]\n",
    "connected_SSS = df_afkca[df_afkca.AFKCA == 'F-15CD'].CONNECTED_AFKCA_SSS.iloc[0]\n",
    "all_connections = extract_afkca(connected_ACS) + extract_afkca(connected_SSS)\n",
    "\n",
    "total_milpers = extract_budget(afkca='F-15CD', kind='MILPERS')\n",
    "for afk in all_connections:\n",
    "    total_milpers = total_milpers + extract_budget(afkca=afk, kind='MILPERS')\n",
    "\n",
    "total_om = extract_budget(afkca='F-15CD', kind='OM')\n",
    "for afk in all_connections:\n",
    "    total_om = total_om + extract_budget(afkca=afk, kind='OM')\n",
    "\n",
    "all_features=[]\n",
    "\n",
    "for i in range(17):\n",
    "    \n",
    "    this_row = []\n",
    "    \n",
    "    d_milp    = get_min_max(get_deltas(total_milpers    ))[1][:-5][i]\n",
    "    d_om      = get_min_max(get_deltas(total_om         ))[1][:-5][i]\n",
    "    \n",
    "    d_milp_tai= get_min_max(get_deltas(total_milpers/TAI))[1][:-5][i]\n",
    "    d_om_tai  = get_min_max(get_deltas(total_om/TAI     ))[1][:-5][i]\n",
    "    \n",
    "    milp      = get_min_max(total_milpers    )[1][1:-5][i]\n",
    "    om        = get_min_max(total_om         )[1][1:-5][i]\n",
    "    \n",
    "    milp_tai  = get_min_max(total_milpers/TAI)[1][1:-5][i]\n",
    "    om_tai    = get_min_max(total_om/TAI     )[1][1:-5][1]\n",
    "    \n",
    "    for feat in (d_milp,d_om,d_milp_tai,d_om_tai,milp,om,milp_tai,om_tai):\n",
    "        this_row.append(feat)\n",
    "    \n",
    "    all_features.append(this_row)\n",
    "    \n",
    "\n",
    "availability=np.array(list(df_availability[df_availability.AFKCA=='F-15CD'].AVAILABILITY)[2:])    \n",
    "\n",
    "model=RidgeCV()\n",
    "model.fit(all_features,get_min_max(availability)[1])\n",
    "pred_avail = model.predict(all_features)\n",
    "plt.scatter(get_min_max(availability)[1],pred_avail)\n",
    "for coef in model.coef_:\n",
    "    print(coef)"
   ]
  },
  {
   "cell_type": "markdown",
   "metadata": {},
   "source": [
    "## F-16CD"
   ]
  },
  {
   "cell_type": "code",
   "execution_count": 11,
   "metadata": {},
   "outputs": [
    {
     "name": "stdout",
     "output_type": "stream",
     "text": [
      "-0.12032318316014073\n",
      "-0.09182783373974857\n",
      "0.18399109531842597\n",
      "0.15708159675950945\n",
      "0.6487231246174324\n",
      "0.14952335581209097\n",
      "-1.0485745912392979\n",
      "0.0\n"
     ]
    },
    {
     "data": {
      "image/png": "[encoded data removed]",
      "text/plain": [
       "<matplotlib.figure.Figure at 0x119250be0>"
      ]
     },
     "metadata": {},
     "output_type": "display_data"
    }
   ],
   "source": [
    "TAI = extract_budget('F-16CD', kind='FORCES_TAI')\n",
    "\n",
    "\n",
    "connected_ACS = df_afkca[df_afkca.AFKCA == 'F-16CD'].CONNECTED_AFKCA_ACS.iloc[0]\n",
    "connected_SSS = df_afkca[df_afkca.AFKCA == 'F-16CD'].CONNECTED_AFKCA_SSS.iloc[0]\n",
    "all_connections = extract_afkca(connected_ACS) + extract_afkca(connected_SSS)\n",
    "\n",
    "total_milpers = extract_budget(afkca='F-16CD', kind='MILPERS')\n",
    "for afk in all_connections:\n",
    "    total_milpers = total_milpers + extract_budget(afkca=afk, kind='MILPERS')\n",
    "\n",
    "total_om = extract_budget(afkca='F-16CD', kind='OM')\n",
    "for afk in all_connections:\n",
    "    total_om = total_om + extract_budget(afkca=afk, kind='OM')\n",
    "\n",
    "all_features=[]\n",
    "\n",
    "for i in range(17):\n",
    "    \n",
    "    this_row = []\n",
    "    \n",
    "    d_milp    = get_min_max(get_deltas(total_milpers    ))[1][:-5][i]\n",
    "    d_om      = get_min_max(get_deltas(total_om         ))[1][:-5][i]\n",
    "    \n",
    "    d_milp_tai= get_min_max(get_deltas(total_milpers/TAI))[1][:-5][i]\n",
    "    d_om_tai  = get_min_max(get_deltas(total_om/TAI     ))[1][:-5][i]\n",
    "    \n",
    "    milp      = get_min_max(total_milpers    )[1][1:-5][i]\n",
    "    om        = get_min_max(total_om         )[1][1:-5][i]\n",
    "    \n",
    "    milp_tai  = get_min_max(total_milpers/TAI)[1][1:-5][i]\n",
    "    om_tai    = get_min_max(total_om/TAI     )[1][1:-5][1]\n",
    "    \n",
    "    for feat in (d_milp,d_om,d_milp_tai,d_om_tai,milp,om,milp_tai,om_tai):\n",
    "        this_row.append(feat)\n",
    "    \n",
    "    all_features.append(this_row)\n",
    "\n",
    "availability=np.array(list(df_availability[df_availability.AFKCA=='F-16CD'].AVAILABILITY)[2:])    \n",
    "\n",
    "model=RidgeCV()\n",
    "model.fit(all_features,get_min_max(availability)[1])\n",
    "pred_avail = model.predict(all_features)\n",
    "plt.scatter(get_min_max(availability)[1],pred_avail)\n",
    "for coef in model.coef_:\n",
    "    print(coef)"
   ]
  },
  {
   "cell_type": "markdown",
   "metadata": {},
   "source": [
    "## F-15E"
   ]
  },
  {
   "cell_type": "code",
   "execution_count": 12,
   "metadata": {},
   "outputs": [
    {
     "name": "stdout",
     "output_type": "stream",
     "text": [
      "0.023706075266592394\n",
      "0.019495001957805402\n",
      "0.019160943205012798\n",
      "0.016680891634216898\n",
      "-0.0019143398609216332\n",
      "-0.011741635608351354\n",
      "-0.0020404976438901288\n",
      "0.0\n"
     ]
    },
    {
     "data": {
      "image/png": "[encoded data removed]",
      "text/plain": [
       "<matplotlib.figure.Figure at 0x11b7e4c50>"
      ]
     },
     "metadata": {},
     "output_type": "display_data"
    }
   ],
   "source": [
    "TAI = extract_budget('F-15E', kind='FORCES_TAI')\n",
    "\n",
    "\n",
    "connected_ACS = df_afkca[df_afkca.AFKCA == 'F-15E'].CONNECTED_AFKCA_ACS.iloc[0]\n",
    "connected_SSS = df_afkca[df_afkca.AFKCA == 'F-15E'].CONNECTED_AFKCA_SSS.iloc[0]\n",
    "all_connections = extract_afkca(connected_ACS) + extract_afkca(connected_SSS)\n",
    "\n",
    "total_milpers = extract_budget(afkca='F-15E', kind='MILPERS')\n",
    "for afk in all_connections:\n",
    "    total_milpers = total_milpers + extract_budget(afkca=afk, kind='MILPERS')\n",
    "\n",
    "total_om = extract_budget(afkca='F-15E', kind='OM')\n",
    "for afk in all_connections:\n",
    "    total_om = total_om + extract_budget(afkca=afk, kind='OM')\n",
    "\n",
    "all_features=[]\n",
    "\n",
    "for i in range(17):\n",
    "    \n",
    "    this_row = []\n",
    "    \n",
    "    d_milp    = get_min_max(get_deltas(total_milpers    ))[1][:-5][i]\n",
    "    d_om      = get_min_max(get_deltas(total_om         ))[1][:-5][i]\n",
    "    \n",
    "    d_milp_tai= get_min_max(get_deltas(total_milpers/TAI))[1][:-5][i]\n",
    "    d_om_tai  = get_min_max(get_deltas(total_om/TAI     ))[1][:-5][i]\n",
    "    \n",
    "    milp      = get_min_max(total_milpers    )[1][1:-5][i]\n",
    "    om        = get_min_max(total_om         )[1][1:-5][i]\n",
    "    \n",
    "    milp_tai  = get_min_max(total_milpers/TAI)[1][1:-5][i]\n",
    "    om_tai    = get_min_max(total_om/TAI     )[1][1:-5][1]\n",
    "    \n",
    "    for feat in (d_milp,d_om,d_milp_tai,d_om_tai,milp,om,milp_tai,om_tai):\n",
    "        this_row.append(feat)\n",
    "    \n",
    "    all_features.append(this_row)\n",
    "    \n",
    "availability=np.array(list(df_availability[df_availability.AFKCA=='F-15E'].AVAILABILITY)[2:])    \n",
    "\n",
    "model=RidgeCV()\n",
    "model.fit(all_features,get_min_max(availability)[1])\n",
    "pred_avail = model.predict(all_features)\n",
    "plt.scatter(get_min_max(availability)[1],pred_avail)\n",
    "for coef in model.coef_:\n",
    "    print(coef)"
   ]
  },
  {
   "cell_type": "code",
   "execution_count": null,
   "metadata": {},
   "outputs": [],
   "source": []
  },
  {
   "cell_type": "code",
   "execution_count": null,
   "metadata": {},
   "outputs": [],
   "source": []
  },
  {
   "cell_type": "code",
   "execution_count": null,
   "metadata": {},
   "outputs": [],
   "source": []
  },
  {
   "cell_type": "code",
   "execution_count": null,
   "metadata": {},
   "outputs": [],
   "source": []
  },
  {
   "cell_type": "markdown",
   "metadata": {},
   "source": [
    "# validation"
   ]
  },
  {
   "cell_type": "code",
   "execution_count": 431,
   "metadata": {},
   "outputs": [],
   "source": [
    "def list_rotN(test_list,N):\n",
    "    \n",
    "    return test_list[N:] + test_list[:N]"
   ]
  },
  {
   "cell_type": "code",
   "execution_count": 13,
   "metadata": {},
   "outputs": [
    {
     "data": {
      "text/plain": [
       "array([ 4.35916994e-02,  8.50282871e-02,  1.36251273e-01,  3.41251903e-02,\n",
       "        4.54322967e-01, -6.27341988e-01, -8.76781099e-01,  3.57452598e-31])"
      ]
     },
     "execution_count": 13,
     "metadata": {},
     "output_type": "execute_result"
    },
    {
     "data": {
      "image/png": "[encoded data removed]",
      "text/plain": [
       "<matplotlib.figure.Figure at 0x11b6c6828>"
      ]
     },
     "metadata": {},
     "output_type": "display_data"
    }
   ],
   "source": [
    "TAI = extract_budget('F-15CD', kind='FORCES_TAI')\n",
    "\n",
    "\n",
    "connected_ACS = df_afkca[df_afkca.AFKCA == 'F-15CD'].CONNECTED_AFKCA_ACS.iloc[0]\n",
    "connected_SSS = df_afkca[df_afkca.AFKCA == 'F-15CD'].CONNECTED_AFKCA_SSS.iloc[0]\n",
    "all_connections = extract_afkca(connected_ACS) + extract_afkca(connected_SSS)\n",
    "\n",
    "total_milpers = extract_budget(afkca='F-15CD', kind='MILPERS')\n",
    "for afk in all_connections:\n",
    "    total_milpers = total_milpers + extract_budget(afkca=afk, kind='MILPERS')\n",
    "\n",
    "total_om = extract_budget(afkca='F-15CD', kind='OM')\n",
    "for afk in all_connections:\n",
    "    total_om = total_om + extract_budget(afkca=afk, kind='OM')\n",
    "\n",
    "all_features=[]\n",
    "\n",
    "for i in range(17):\n",
    "    \n",
    "    this_row = []\n",
    "    \n",
    "    d_milp    = get_min_max(get_deltas(total_milpers    ))[1][:-5][i]\n",
    "    d_om      = get_min_max(get_deltas(total_om         ))[1][:-5][i]\n",
    "    \n",
    "    d_milp_tai= get_min_max(get_deltas(total_milpers/TAI))[1][:-5][i]\n",
    "    d_om_tai  = get_min_max(get_deltas(total_om/TAI     ))[1][:-5][i]\n",
    "    \n",
    "    milp      = get_min_max(total_milpers    )[1][1:-5][i]\n",
    "    om        = get_min_max(total_om         )[1][1:-5][i]\n",
    "    \n",
    "    milp_tai  = get_min_max(total_milpers/TAI)[1][1:-5][i]\n",
    "    om_tai    = get_min_max(total_om/TAI     )[1][1:-5][1]\n",
    "    \n",
    "    for feat in (d_milp,d_om,d_milp_tai,d_om_tai,milp,om,milp_tai,om_tai):\n",
    "        this_row.append(feat)\n",
    "    \n",
    "    all_features.append(this_row)\n",
    "\n",
    "availability=np.array(list(df_availability[df_availability.AFKCA=='F-15CD'].AVAILABILITY)[2:])    \n",
    "\n",
    "model=RidgeCV()\n",
    "model.fit(all_features,get_min_max(availability)[1])\n",
    "pred_avail = model.predict(all_features)\n",
    "plt.scatter(get_min_max(availability)[1],pred_avail)\n",
    "model.coef_\n",
    "\n",
    "\n"
   ]
  },
  {
   "cell_type": "code",
   "execution_count": 14,
   "metadata": {},
   "outputs": [
    {
     "name": "stdout",
     "output_type": "stream",
     "text": [
      "N=0 [ 4.35916994e-02  8.50282871e-02  1.36251273e-01  3.41251903e-02\n",
      "  4.54322967e-01 -6.27341988e-01 -8.76781099e-01  3.57452598e-31]\n",
      "N=1 [ 1.51123507e-01  1.95579803e-01 -7.57258699e-02 -8.83544262e-02\n",
      " -3.52236758e-02 -1.91794346e-01 -2.69467834e-01 -7.08742220e-32]\n",
      "N=2 [ 2.58078810e-01 -3.53074330e-03 -1.31620783e-02 -1.04622152e-01\n",
      " -1.10181279e-01 -3.03918977e-01 -9.00353048e-02 -2.03378202e-31]\n",
      "N=3 [ 8.68369396e-02  1.23954782e-01 -1.32166603e-01 -9.32041461e-02\n",
      " -2.02674856e-01 -2.29706754e-01  5.85117410e-02 -3.17393255e-31]\n",
      "N=4 [-1.14880320e-01  5.41286761e-01 -1.00217634e-01  1.88909737e-01\n",
      " -4.25031421e-01 -8.57711441e-01  6.49007385e-01  1.35585468e-31]\n",
      "N=5 [-1.59672182e-02 -1.52825433e-02 -1.72930070e-02 -2.19268428e-02\n",
      " -2.95950220e-03 -2.71755459e-02  5.11518585e-02 -1.00148357e-32]\n",
      "N=6 [ 6.95925914e-02  2.79004681e-01 -1.80523538e-01 -2.10323109e-01\n",
      "  2.24425038e-01 -2.21155678e-01  8.79563947e-01 -8.62816615e-32]\n",
      "N=7 [-7.83293034e-02 -3.02971034e-03 -7.45967519e-02 -1.31459425e-01\n",
      "  5.29776532e-02 -7.89320896e-02  3.56273983e-01  3.17393255e-31]\n",
      "N=8 [-1.18509190e-01 -6.50644060e-04 -5.82588766e-02 -3.67015814e-02\n",
      "  1.43391158e-01 -1.12681832e-02  3.71544244e-01  8.93631494e-32]\n",
      "N=9 [ 7.43033836e-02 -2.55140571e-01  1.60771117e-01  2.75638846e-02\n",
      "  2.22906612e-01  8.15566497e-02  3.15412311e-01  2.74252424e-31]\n"
     ]
    },
    {
     "data": {
      "image/png": "[encoded data removed]",
      "text/plain": [
       "<matplotlib.figure.Figure at 0x11b740828>"
      ]
     },
     "metadata": {},
     "output_type": "display_data"
    }
   ],
   "source": [
    "def list_rotN(test_list,N):\n",
    "    \n",
    "    return test_list[N:] + test_list[:N]\n",
    "\n",
    "for N in range(10):\n",
    "    \n",
    "    availability=np.array( list_rotN(list(df_availability[df_availability.AFKCA=='F-15CD'].AVAILABILITY)[2:],N))\n",
    "\n",
    "    \n",
    "    model=RidgeCV()\n",
    "    model.fit(all_features,get_min_max(availability)[1])\n",
    "    pred_avail = model.predict(all_features)\n",
    "    plt.scatter(range(8),model.coef_,s=100/(N+1)**2)\n",
    "    print('N={}'.format(N),model.coef_)"
   ]
  },
  {
   "cell_type": "code",
   "execution_count": null,
   "metadata": {},
   "outputs": [],
   "source": []
  },
  {
   "cell_type": "code",
   "execution_count": 15,
   "metadata": {},
   "outputs": [
    {
     "data": {
      "text/plain": [
       "array([-0.12032318, -0.09182783,  0.1839911 ,  0.1570816 ,  0.64872312,\n",
       "        0.14952336, -1.04857459,  0.        ])"
      ]
     },
     "execution_count": 15,
     "metadata": {},
     "output_type": "execute_result"
    },
    {
     "data": {
      "image/png": "[encoded data removed]",
      "text/plain": [
       "<matplotlib.figure.Figure at 0x11b0ddef0>"
      ]
     },
     "metadata": {},
     "output_type": "display_data"
    }
   ],
   "source": [
    "TAI = extract_budget('F-16CD', kind='FORCES_TAI')\n",
    "\n",
    "\n",
    "connected_ACS = df_afkca[df_afkca.AFKCA == 'F-16CD'].CONNECTED_AFKCA_ACS.iloc[0]\n",
    "connected_SSS = df_afkca[df_afkca.AFKCA == 'F-16CD'].CONNECTED_AFKCA_SSS.iloc[0]\n",
    "all_connections = extract_afkca(connected_ACS) + extract_afkca(connected_SSS)\n",
    "\n",
    "total_milpers = extract_budget(afkca='F-16CD', kind='MILPERS')\n",
    "for afk in all_connections:\n",
    "    total_milpers = total_milpers + extract_budget(afkca=afk, kind='MILPERS')\n",
    "\n",
    "total_om = extract_budget(afkca='F-16CD', kind='OM')\n",
    "for afk in all_connections:\n",
    "    total_om = total_om + extract_budget(afkca=afk, kind='OM')\n",
    "\n",
    "all_features=[]\n",
    "\n",
    "for i in range(17):\n",
    "    \n",
    "    this_row = []\n",
    "    \n",
    "    d_milp    = get_min_max(get_deltas(total_milpers    ))[1][:-5][i]\n",
    "    d_om      = get_min_max(get_deltas(total_om         ))[1][:-5][i]\n",
    "    \n",
    "    d_milp_tai= get_min_max(get_deltas(total_milpers/TAI))[1][:-5][i]\n",
    "    d_om_tai  = get_min_max(get_deltas(total_om/TAI     ))[1][:-5][i]\n",
    "    \n",
    "    milp      = get_min_max(total_milpers    )[1][1:-5][i]\n",
    "    om        = get_min_max(total_om         )[1][1:-5][i]\n",
    "    \n",
    "    milp_tai  = get_min_max(total_milpers/TAI)[1][1:-5][i]\n",
    "    om_tai    = get_min_max(total_om/TAI     )[1][1:-5][1]\n",
    "    \n",
    "    for feat in (d_milp,d_om,d_milp_tai,d_om_tai,milp,om,milp_tai,om_tai):\n",
    "        this_row.append(feat)\n",
    "    \n",
    "    all_features.append(this_row)\n",
    "    \n",
    "\n",
    "availability=np.array(list(df_availability[df_availability.AFKCA=='F-16CD'].AVAILABILITY)[2:])    \n",
    "\n",
    "model=RidgeCV()\n",
    "model.fit(all_features,get_min_max(availability)[1])\n",
    "pred_avail = model.predict(all_features)\n",
    "plt.scatter(get_min_max(availability)[1],pred_avail)\n",
    "model.coef_\n",
    "\n",
    "\n"
   ]
  },
  {
   "cell_type": "code",
   "execution_count": 16,
   "metadata": {},
   "outputs": [
    {
     "name": "stdout",
     "output_type": "stream",
     "text": [
      "N=0 [-0.12032318 -0.09182783  0.1839911   0.1570816   0.64872312  0.14952336\n",
      " -1.04857459  0.        ]\n",
      "N=1 [ 0.13345194 -0.03938259  0.24772955 -0.0397928   0.3920047   0.06374904\n",
      " -0.90693334  0.        ]\n",
      "N=2 [ 0.16105653  0.06204975  0.07338012 -0.02297791 -0.10026508  0.00692979\n",
      " -0.34085509  0.        ]\n",
      "N=3 [ 0.0562315   0.07637093 -0.03979207  0.02908108 -0.21050359 -0.08937132\n",
      " -0.32219225  0.        ]\n",
      "N=4 [ 0.04089196  0.10081993 -0.08989484  0.00539264 -0.16460347 -0.12065829\n",
      " -0.17621243  0.        ]\n",
      "N=5 [-0.00494105  0.02205183 -0.0284508   0.00548283 -0.01794589 -0.02206327\n",
      " -0.00952461  0.        ]\n",
      "N=6 [-0.00813865  0.01252426 -0.02539957 -0.00030441 -0.00412085 -0.02903845\n",
      "  0.01354318  0.        ]\n",
      "N=7 [ 0.09415256  0.13167016 -0.100149   -0.07673216  0.06682372 -0.21897775\n",
      "  0.21076431  0.        ]\n",
      "N=8 [ 0.32366488  0.64294955 -0.43739567 -0.22079692  0.20420522 -0.69437677\n",
      "  0.68537128  0.        ]\n",
      "N=9 [-0.06950756  0.05358927  0.04849542  0.13421551  0.19083481 -0.89991962\n",
      "  0.75385379  0.        ]\n"
     ]
    },
    {
     "data": {
      "image/png": "[encoded data removed]",
      "text/plain": [
       "<matplotlib.figure.Figure at 0x11b17a780>"
      ]
     },
     "metadata": {},
     "output_type": "display_data"
    }
   ],
   "source": [
    "def list_rotN(test_list,N):\n",
    "    \n",
    "    return test_list[N:] + test_list[:N]\n",
    "\n",
    "for N in range(10):\n",
    "    \n",
    "    availability=np.array( list_rotN(list(df_availability[df_availability.AFKCA=='F-16CD'].AVAILABILITY)[2:],N))\n",
    "\n",
    "    \n",
    "    model=RidgeCV()\n",
    "    model.fit(all_features,get_min_max(availability)[1])\n",
    "    pred_avail = model.predict(all_features)\n",
    "    plt.scatter(range(8),model.coef_,s=100/(N+1)**2)\n",
    "    print('N={}'.format(N),model.coef_)"
   ]
  },
  {
   "cell_type": "code",
   "execution_count": null,
   "metadata": {},
   "outputs": [],
   "source": []
  },
  {
   "cell_type": "code",
   "execution_count": null,
   "metadata": {},
   "outputs": [],
   "source": []
  },
  {
   "cell_type": "code",
   "execution_count": null,
   "metadata": {},
   "outputs": [],
   "source": []
  },
  {
   "cell_type": "code",
   "execution_count": null,
   "metadata": {},
   "outputs": [],
   "source": []
  },
  {
   "cell_type": "code",
   "execution_count": null,
   "metadata": {},
   "outputs": [],
   "source": []
  },
  {
   "cell_type": "code",
   "execution_count": null,
   "metadata": {},
   "outputs": [],
   "source": []
  },
  {
   "cell_type": "code",
   "execution_count": 387,
   "metadata": {},
   "outputs": [
    {
     "data": {
      "text/plain": [
       "<matplotlib.collections.PathCollection at 0x1a259f0fd0>"
      ]
     },
     "execution_count": 387,
     "metadata": {},
     "output_type": "execute_result"
    },
    {
     "data": {
      "image/png": "[encoded data removed]",
      "text/plain": [
       "<matplotlib.figure.Figure at 0x1a265fd6d8>"
      ]
     },
     "metadata": {},
     "output_type": "display_data"
    }
   ],
   "source": [
    "total_milpers = extract_budget(afkca='F-15E', kind='MILPERS')\n",
    "for afk in all_connections:\n",
    "    total_milpers = total_milpers + extract_budget(afkca=afk, kind='MILPERS')\n",
    "plt.scatter(range(18), get_min_max(total_milpers)[1][:-5],color='r',marker='x')\n",
    "\n",
    "total_om = extract_budget(afkca='F-15E', kind='OM')\n",
    "for afk in all_connections:\n",
    "    total_om = total_om + extract_budget(afkca=afk, kind='OM')\n",
    "plt.scatter(range(18), get_min_max(total_om)[1][:-5],color='r',marker='o')\n",
    "\n",
    "total_milpers = extract_budget(afkca='F-15CD', kind='MILPERS')\n",
    "for afk in all_connections:\n",
    "    total_milpers = total_milpers + extract_budget(afkca=afk, kind='MILPERS')\n",
    "plt.scatter(range(18), get_min_max(total_milpers)[1][:-5],color='g',marker='x')\n",
    "\n",
    "total_om = extract_budget(afkca='F-15CD', kind='OM')\n",
    "for afk in all_connections:\n",
    "    total_om = total_om + extract_budget(afkca=afk, kind='OM')\n",
    "plt.scatter(range(18), get_min_max(total_om)[1][:-5],color='g',marker='o')\n",
    "\n",
    "total_milpers = extract_budget(afkca='F-16CD', kind='MILPERS')\n",
    "for afk in all_connections:\n",
    "    total_milpers = total_milpers + extract_budget(afkca=afk, kind='MILPERS')\n",
    "plt.scatter(range(18), get_min_max(total_milpers)[1][:-5],color='b',marker='x')\n",
    "\n",
    "total_om = extract_budget(afkca='F-16CD', kind='OM')\n",
    "for afk in all_connections:\n",
    "    total_om = total_om + extract_budget(afkca=afk, kind='OM')\n",
    "plt.scatter(range(18), get_min_max(total_om)[1][:-5],color='b',marker='o')\n",
    "\n",
    "\n",
    "total_milpers = extract_budget(afkca='C-130H', kind='MILPERS')\n",
    "for afk in all_connections:\n",
    "    total_milpers = total_milpers + extract_budget(afkca=afk, kind='MILPERS')\n",
    "plt.scatter(range(18), get_min_max(total_milpers)[1][:-5],color='k',marker='x')\n",
    "\n",
    "total_om = extract_budget(afkca='C-130H', kind='OM')\n",
    "for afk in all_connections:\n",
    "    total_om = total_om + extract_budget(afkca=afk, kind='OM')\n",
    "plt.scatter(range(18), get_min_max(total_om)[1][:-5],color='k',marker='o')"
   ]
  },
  {
   "cell_type": "code",
   "execution_count": null,
   "metadata": {},
   "outputs": [],
   "source": []
  }
 ],
 "metadata": {
  "kernelspec": {
   "display_name": "Python 3",
   "language": "python",
   "name": "python3"
  },
  "language_info": {
   "codemirror_mode": {
    "name": "ipython",
    "version": 3
   },
   "file_extension": ".py",
   "mimetype": "text/x-python",
   "name": "python",
   "nbconvert_exporter": "python",
   "pygments_lexer": "ipython3",
   "version": "3.6.4"
  }
 },
 "nbformat": 4,
 "nbformat_minor": 2
}
